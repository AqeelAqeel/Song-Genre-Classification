{
 "cells": [
  {
   "cell_type": "code",
   "execution_count": 80,
   "id": "5dcd03b5",
   "metadata": {},
   "outputs": [],
   "source": [
    "import numpy as np\n",
    "import pandas as pd\n",
    "import matplotlib.pyplot as plt\n",
    "from glob import glob\n",
    "import os\n",
    "import librosa as librosa\n",
    "import warnings\n",
    "warnings.filterwarnings('ignore')"
   ]
  },
  {
   "cell_type": "code",
   "execution_count": 81,
   "id": "9df02378",
   "metadata": {},
   "outputs": [
    {
     "data": {
      "text/plain": [
       "'/home/aqeelali7/Documents/Galvanized/Capstone-2-Music-Genre-Classifier/data/metal'"
      ]
     },
     "execution_count": 81,
     "metadata": {},
     "output_type": "execute_result"
    }
   ],
   "source": [
    "path = os.getcwd()\n",
    "path"
   ]
  },
  {
   "cell_type": "code",
   "execution_count": 82,
   "id": "ea7b44ef",
   "metadata": {},
   "outputs": [],
   "source": [
    "p = '/home/aqeelali7/Documents/Galvanized/Capstone-2-Music-Genre-Classifier/'"
   ]
  },
  {
   "cell_type": "code",
   "execution_count": 83,
   "id": "2ac5aff8",
   "metadata": {},
   "outputs": [],
   "source": [
    "genres = ['hip-hop', 'classical', 'country', 'electronic', 'metal']"
   ]
  },
  {
   "cell_type": "code",
   "execution_count": 84,
   "id": "595cb120",
   "metadata": {},
   "outputs": [],
   "source": [
    "def extract_audio_features(y, sr):\n",
    "        '''\n",
    "        This function extracts audio features from an audio file.\n",
    "                Parameters:\n",
    "                        id (string): the audio track id \n",
    "                        y \n",
    "                        sr \n",
    "                Returns:\n",
    "                        audio_features (DataFrame): the extracted audio features\n",
    "        '''\n",
    "        # Features to concatenate in the final dictionary\n",
    "        features = {'chroma_sftf': None, 'rolloff': None, 'zero_crossing_rate': None, 'rmse': None,\n",
    "                    'flux': None, 'contrast': None, 'flatness': None}\n",
    "\n",
    "        # Count silence\n",
    "        if 0 < len(y):\n",
    "            y_sound, _ = librosa.effects.trim(y)\n",
    "        features['sample_silence'] = len(y) - len(y_sound)            \n",
    "\n",
    "        # Using librosa to calculate the features\n",
    "        features['chroma_sftf'] = np.mean(\n",
    "            librosa.feature.chroma_stft(y=y, sr=sr))\n",
    "        features['rolloff'] = np.mean(\n",
    "            librosa.feature.spectral_rolloff(y, sr=sr))\n",
    "        features['zero_crossing_rate'] = np.mean(\n",
    "            librosa.feature.zero_crossing_rate(y))\n",
    "        features['rmse'] = np.mean(librosa.feature.rms(y))\n",
    "        features['flux'] = np.mean(librosa.onset.onset_strength(y=y, sr=sr))\n",
    "        features['contrast'] = np.mean(\n",
    "            librosa.feature.spectral_contrast(y, sr=sr))\n",
    "        features['flatness'] = np.mean(librosa.feature.spectral_flatness(y))\n",
    "\n",
    "        # MFCC treatment\n",
    "        mfcc = librosa.feature.mfcc(y=y, sr=sr, n_mfcc=20)\n",
    "        for idx, v_mfcc in enumerate(mfcc):\n",
    "            features['mfcc_{}'.format(idx)] = np.mean(v_mfcc)\n",
    "\n",
    "        features['tempo'] = librosa.beat.tempo(y, sr=sr)[0]\n",
    "        return features"
   ]
  },
  {
   "cell_type": "code",
   "execution_count": 85,
   "id": "feb93324",
   "metadata": {},
   "outputs": [],
   "source": [
    "# loop thru the list of genres\n",
    "#     in each genre:\n",
    "#         extract audio features using librosa library\n",
    "#         store extracted audio features in a dataframe\n",
    "#     iterate to next genre\n",
    "\n",
    "\n",
    "\n",
    "# add the list as the contents of the row of a dataframe\n",
    "\n",
    "# create list of features for each song\n",
    "chroma_sftf = []\n",
    "flux = [] \n",
    "rolloff = []\n",
    "zero_crossing_rate = []\n",
    "contrast = []\n",
    "flatness = []\n",
    "rmse = []\n",
    "tempo = []\n",
    "genre = []\n",
    "sr = 22050\n",
    "\n",
    "for i in range(len(genres)):\n",
    "\n",
    "    data_dir = \"data/\"+genres[i]\n",
    "    new_path = os.path.join(p,data_dir)\n",
    "    os.chdir(new_path)\n",
    "      \n",
    "    for track_num in range(len(os.listdir()[:10])):\n",
    "\n",
    "        audio, y = lr.load((os.listdir()[track_num]))\n",
    "        audio = np.array(audio)\n",
    "        y = np.array(y)\n",
    "        curr_song_feats = extract_audio_features(audio,sr)\n",
    "        \n",
    "        # for each song, append data to respective features list\n",
    "        chroma_sftf.append(curr_song_feats['chroma_sftf'])\n",
    "        flux.append(curr_song_feats['flux'])\n",
    "        rolloff.append(curr_song_feats['rolloff'])\n",
    "        zero_crossing_rate.append(curr_song_feats['zero_crossing_rate'])\n",
    "        contrast.append(curr_song_feats['contrast'])\n",
    "        flatness.append(curr_song_feats['flatness'])\n",
    "        rmse.append(curr_song_feats['rmse'])\n",
    "        tempo.append(curr_song_feats['tempo'])\n",
    "        genre.append(genres[i])\n",
    "    \n",
    "        \n",
    "\n",
    "        \n"
   ]
  },
  {
   "cell_type": "code",
   "execution_count": 86,
   "id": "1a481ccb",
   "metadata": {},
   "outputs": [
    {
     "data": {
      "text/html": [
       "<div>\n",
       "<style scoped>\n",
       "    .dataframe tbody tr th:only-of-type {\n",
       "        vertical-align: middle;\n",
       "    }\n",
       "\n",
       "    .dataframe tbody tr th {\n",
       "        vertical-align: top;\n",
       "    }\n",
       "\n",
       "    .dataframe thead th {\n",
       "        text-align: right;\n",
       "    }\n",
       "</style>\n",
       "<table border=\"1\" class=\"dataframe\">\n",
       "  <thead>\n",
       "    <tr style=\"text-align: right;\">\n",
       "      <th></th>\n",
       "      <th>genre</th>\n",
       "      <th>chroma_sftf</th>\n",
       "      <th>flux</th>\n",
       "      <th>rolloff</th>\n",
       "      <th>zero_crossing_rate</th>\n",
       "      <th>contrast</th>\n",
       "      <th>flatness</th>\n",
       "      <th>rmse</th>\n",
       "      <th>tempo</th>\n",
       "    </tr>\n",
       "  </thead>\n",
       "  <tbody>\n",
       "    <tr>\n",
       "      <th>0</th>\n",
       "      <td>hip-hop</td>\n",
       "      <td>0.379869</td>\n",
       "      <td>1.436754</td>\n",
       "      <td>1289.819978</td>\n",
       "      <td>0.029480</td>\n",
       "      <td>21.493925</td>\n",
       "      <td>0.000617</td>\n",
       "      <td>0.377290</td>\n",
       "      <td>89.102909</td>\n",
       "    </tr>\n",
       "    <tr>\n",
       "      <th>1</th>\n",
       "      <td>hip-hop</td>\n",
       "      <td>0.486238</td>\n",
       "      <td>1.691776</td>\n",
       "      <td>5755.731863</td>\n",
       "      <td>0.131533</td>\n",
       "      <td>20.783028</td>\n",
       "      <td>0.053096</td>\n",
       "      <td>0.243562</td>\n",
       "      <td>92.285156</td>\n",
       "    </tr>\n",
       "    <tr>\n",
       "      <th>2</th>\n",
       "      <td>hip-hop</td>\n",
       "      <td>0.530458</td>\n",
       "      <td>1.888279</td>\n",
       "      <td>6261.773247</td>\n",
       "      <td>0.126315</td>\n",
       "      <td>19.989482</td>\n",
       "      <td>0.050299</td>\n",
       "      <td>0.324483</td>\n",
       "      <td>123.046875</td>\n",
       "    </tr>\n",
       "    <tr>\n",
       "      <th>3</th>\n",
       "      <td>hip-hop</td>\n",
       "      <td>0.485251</td>\n",
       "      <td>1.290328</td>\n",
       "      <td>3830.665725</td>\n",
       "      <td>0.062796</td>\n",
       "      <td>19.489805</td>\n",
       "      <td>0.013420</td>\n",
       "      <td>0.185147</td>\n",
       "      <td>129.199219</td>\n",
       "    </tr>\n",
       "    <tr>\n",
       "      <th>4</th>\n",
       "      <td>hip-hop</td>\n",
       "      <td>0.405980</td>\n",
       "      <td>1.543403</td>\n",
       "      <td>4310.546157</td>\n",
       "      <td>0.081577</td>\n",
       "      <td>22.124888</td>\n",
       "      <td>0.018615</td>\n",
       "      <td>0.266838</td>\n",
       "      <td>92.285156</td>\n",
       "    </tr>\n",
       "  </tbody>\n",
       "</table>\n",
       "</div>"
      ],
      "text/plain": [
       "     genre  chroma_sftf      flux      rolloff  zero_crossing_rate   contrast  \\\n",
       "0  hip-hop     0.379869  1.436754  1289.819978            0.029480  21.493925   \n",
       "1  hip-hop     0.486238  1.691776  5755.731863            0.131533  20.783028   \n",
       "2  hip-hop     0.530458  1.888279  6261.773247            0.126315  19.989482   \n",
       "3  hip-hop     0.485251  1.290328  3830.665725            0.062796  19.489805   \n",
       "4  hip-hop     0.405980  1.543403  4310.546157            0.081577  22.124888   \n",
       "\n",
       "   flatness      rmse       tempo  \n",
       "0  0.000617  0.377290   89.102909  \n",
       "1  0.053096  0.243562   92.285156  \n",
       "2  0.050299  0.324483  123.046875  \n",
       "3  0.013420  0.185147  129.199219  \n",
       "4  0.018615  0.266838   92.285156  "
      ]
     },
     "execution_count": 86,
     "metadata": {},
     "output_type": "execute_result"
    }
   ],
   "source": [
    "col_feats = list(zip(genre,chroma_sftf, flux, rolloff, zero_crossing_rate, contrast,flatness,rmse,tempo))\n",
    "col_names = [\"genre\", \"chroma_sftf\", \"flux\", \"rolloff\", \"zero_crossing_rate\", \"contrast\",\"flatness\",\"rmse\",\"tempo\"]\n",
    "\n",
    "df = pd.DataFrame(col_feats, columns = col_names)\n",
    "df.head()"
   ]
  },
  {
   "cell_type": "code",
   "execution_count": 87,
   "id": "98142b5e",
   "metadata": {},
   "outputs": [],
   "source": [
    "plt.rc(\"font\", size=14)\n",
    "from sklearn.model_selection import train_test_split\n",
    "import seaborn as sns\n",
    "sns.set(style=\"white\")\n",
    "sns.set(style=\"whitegrid\", color_codes=True)\n",
    "%matplotlib inline\n",
    "import scipy.stats as scs\n",
    "import scipy\n",
    "from sklearn.linear_model import LogisticRegression, LinearRegression\n",
    "import itertools\n",
    "from sklearn.preprocessing import StandardScaler # data normalization\n",
    "from sklearn.metrics import precision_score # evaluation metric\n",
    "from sklearn.metrics import classification_report # evaluation metric\n",
    "from sklearn.metrics import confusion_matrix # evaluation metric\n",
    "from sklearn.metrics import log_loss # evaluation metric\n",
    "from matplotlib import rcParams # plot size customization\n",
    "rcParams['figure.figsize'] = (20, 10)"
   ]
  },
  {
   "cell_type": "code",
   "execution_count": 124,
   "id": "0882f4a7",
   "metadata": {},
   "outputs": [],
   "source": []
  },
  {
   "cell_type": "code",
   "execution_count": 125,
   "id": "7b406227",
   "metadata": {},
   "outputs": [],
   "source": []
  },
  {
   "cell_type": "code",
   "execution_count": 127,
   "id": "d04acbf2",
   "metadata": {},
   "outputs": [
    {
     "data": {
      "image/png": "[encoded data removed]",
      "text/plain": [
       "<Figure size 432x288 with 1 Axes>"
      ]
     },
     "metadata": {
      "needs_background": "light"
     },
     "output_type": "display_data"
    }
   ],
   "source": []
  },
  {
   "cell_type": "code",
   "execution_count": null,
   "id": "fe78048f",
   "metadata": {},
   "outputs": [],
   "source": []
  }
 ],
 "metadata": {
  "kernelspec": {
   "display_name": "Python 3",
   "language": "python",
   "name": "python3"
  },
  "language_info": {
   "codemirror_mode": {
    "name": "ipython",
    "version": 3
   },
   "file_extension": ".py",
   "mimetype": "text/x-python",
   "name": "python",
   "nbconvert_exporter": "python",
   "pygments_lexer": "ipython3",
   "version": "3.8.10"
  }
 },
 "nbformat": 4,
 "nbformat_minor": 5
}
