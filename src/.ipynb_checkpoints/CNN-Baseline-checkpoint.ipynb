{
 "cells": [
  {
   "cell_type": "code",
   "execution_count": 312,
   "id": "5dcd03b5",
   "metadata": {},
   "outputs": [],
   "source": [
    "import numpy as np\n",
    "import pandas as pd\n",
    "import matplotlib.pyplot as plt\n",
    "from glob import glob\n",
    "import os\n",
    "import librosa as librosa\n",
    "import warnings\n",
    "warnings.filterwarnings('ignore')"
   ]
  },
  {
   "cell_type": "code",
   "execution_count": 313,
   "id": "9df02378",
   "metadata": {},
   "outputs": [
    {
     "data": {
      "text/plain": [
       "'/home/aqeelali7/Documents/Galvanized/Capstone-2-Music-Genre-Classifier/data/metal'"
      ]
     },
     "execution_count": 313,
     "metadata": {},
     "output_type": "execute_result"
    }
   ],
   "source": [
    "path = os.getcwd()\n",
    "path"
   ]
  },
  {
   "cell_type": "code",
   "execution_count": 314,
   "id": "ea7b44ef",
   "metadata": {},
   "outputs": [],
   "source": [
    "p = '/home/aqeelali7/Documents/Galvanized/Capstone-2-Music-Genre-Classifier/'"
   ]
  },
  {
   "cell_type": "code",
   "execution_count": 315,
   "id": "2ac5aff8",
   "metadata": {},
   "outputs": [],
   "source": [
    "genres = ['hip-hop', 'classical', 'country', 'electronic', 'metal']"
   ]
  },
  {
   "cell_type": "code",
   "execution_count": 316,
   "id": "595cb120",
   "metadata": {},
   "outputs": [],
   "source": [
    "def extract_audio_features(y, sr):\n",
    "        '''\n",
    "        This function extracts audio features from an audio file.\n",
    "                Parameters:\n",
    "                        id (string): the audio track id \n",
    "                        y \n",
    "                        sr \n",
    "                Returns:\n",
    "                        audio_features (DataFrame): the extracted audio features\n",
    "        '''\n",
    "        # Features to concatenate in the final dictionary\n",
    "        features = {'chroma_sftf': None, 'rolloff': None, 'zero_crossing_rate': None, 'rmse': None,\n",
    "                    'flux': None, 'contrast': None, 'flatness': None}\n",
    "\n",
    "        # Count silence\n",
    "        if 0 < len(y):\n",
    "            y_sound, _ = librosa.effects.trim(y)\n",
    "        features['sample_silence'] = len(y) - len(y_sound)            \n",
    "\n",
    "        # Using librosa to calculate the features\n",
    "        features['chroma_sftf'] = np.mean(\n",
    "            librosa.feature.chroma_stft(y=y, sr=sr))\n",
    "        features['rolloff'] = np.mean(\n",
    "            librosa.feature.spectral_rolloff(y, sr=sr))\n",
    "        features['zero_crossing_rate'] = np.mean(\n",
    "            librosa.feature.zero_crossing_rate(y))\n",
    "        features['rmse'] = np.mean(librosa.feature.rms(y))\n",
    "        features['flux'] = np.mean(librosa.onset.onset_strength(y=y, sr=sr))\n",
    "        features['contrast'] = np.mean(\n",
    "            librosa.feature.spectral_contrast(y, sr=sr))\n",
    "        features['flatness'] = np.mean(librosa.feature.spectral_flatness(y))\n",
    "\n",
    "        # MFCC treatment\n",
    "        mfcc = librosa.feature.mfcc(y=y, sr=sr, n_mfcc=20)\n",
    "        \n",
    "        for idx, v_mfcc in enumerate(mfcc):\n",
    "            features['avg_mfcc'] = np.mean(v_mfcc)\n",
    "            \n",
    "        \n",
    "\n",
    "        features['tempo'] = librosa.beat.tempo(y, sr=sr)[0]\n",
    "        return features"
   ]
  },
  {
   "cell_type": "code",
   "execution_count": null,
   "id": "91181b10",
   "metadata": {
    "scrolled": true
   },
   "outputs": [],
   "source": [
    "\n",
    "#     in each genre:\n",
    "\n",
    "#     iterate to next genre\n",
    "\n",
    "\n",
    "\n",
    "# add the list as the contents of the row of a dataframe\n",
    "\n",
    "# create list of features for each song\n",
    "chroma_sftf = []\n",
    "flux = [] \n",
    "rolloff = []\n",
    "zero_crossing_rate = []\n",
    "contrast = []\n",
    "flatness = []\n",
    "rmse = []\n",
    "tempo = []\n",
    "genre = []\n",
    "mfcc = []\n",
    "sr = 22050\n",
    "\n",
    "# loop thru the list of genres\n",
    "for i in range(len(genres)):\n",
    "\n",
    "    data_dir = \"data/\"+genres[i]\n",
    "    new_path = os.path.join(p,data_dir)\n",
    "    os.chdir(new_path)\n",
    "    \n",
    "#   extract audio features using librosa library\n",
    "#   store extracted audio features in a dataframe\n",
    "    count = 0\n",
    "    for track_num in range(len(os.listdir())):\n",
    "\n",
    "        audio, amplitude = librosa.load((os.listdir()[track_num]))\n",
    "        audio = np.array(audio)\n",
    "        amplitude = np.array(amplitude)\n",
    "        curr_song_feats = extract_audio_features(audio,sr)\n",
    "        \n",
    "        # for each song, append data to respective features list\n",
    "        chroma_sftf.append(curr_song_feats['chroma_sftf'])\n",
    "        flux.append(curr_song_feats['flux'])\n",
    "        rolloff.append(curr_song_feats['rolloff'])\n",
    "        zero_crossing_rate.append(curr_song_feats['zero_crossing_rate'])\n",
    "        contrast.append(curr_song_feats['contrast'])\n",
    "        flatness.append(curr_song_feats['flatness'])\n",
    "        rmse.append(curr_song_feats['rmse'])\n",
    "        tempo.append(curr_song_feats['tempo'])\n",
    "        genre.append(genres[i])\n",
    "        mfcc.append(curr_song_feats['avg_mfcc'])\n",
    "        \n",
    "        count += 1\n",
    "        \n",
    "        if count%100 == 0:\n",
    "            print('100 songs done')\n",
    "        \n",
    "        \n",
    "        \n",
    "    print('done with ', genres[i])\n",
    "    \n",
    "        \n",
    "\n",
    "        \n"
   ]
  },
  {
   "cell_type": "code",
   "execution_count": 318,
   "id": "b11c4582",
   "metadata": {},
   "outputs": [
    {
     "data": {
      "text/html": [
       "<div>\n",
       "<style scoped>\n",
       "    .dataframe tbody tr th:only-of-type {\n",
       "        vertical-align: middle;\n",
       "    }\n",
       "\n",
       "    .dataframe tbody tr th {\n",
       "        vertical-align: top;\n",
       "    }\n",
       "\n",
       "    .dataframe thead th {\n",
       "        text-align: right;\n",
       "    }\n",
       "</style>\n",
       "<table border=\"1\" class=\"dataframe\">\n",
       "  <thead>\n",
       "    <tr style=\"text-align: right;\">\n",
       "      <th></th>\n",
       "      <th>genre</th>\n",
       "      <th>mfcc</th>\n",
       "      <th>chroma_sftf</th>\n",
       "      <th>flux</th>\n",
       "      <th>rolloff</th>\n",
       "      <th>zero_crossing_rate</th>\n",
       "      <th>contrast</th>\n",
       "      <th>flatness</th>\n",
       "      <th>rmse</th>\n",
       "      <th>tempo</th>\n",
       "    </tr>\n",
       "  </thead>\n",
       "  <tbody>\n",
       "    <tr>\n",
       "      <th>0</th>\n",
       "      <td>hip-hop</td>\n",
       "      <td>3.214364</td>\n",
       "      <td>0.379869</td>\n",
       "      <td>1.436754</td>\n",
       "      <td>1289.819978</td>\n",
       "      <td>0.029480</td>\n",
       "      <td>21.493925</td>\n",
       "      <td>0.000617</td>\n",
       "      <td>0.377290</td>\n",
       "      <td>89.102909</td>\n",
       "    </tr>\n",
       "    <tr>\n",
       "      <th>1</th>\n",
       "      <td>hip-hop</td>\n",
       "      <td>1.229603</td>\n",
       "      <td>0.486238</td>\n",
       "      <td>1.691776</td>\n",
       "      <td>5755.731863</td>\n",
       "      <td>0.131533</td>\n",
       "      <td>20.783028</td>\n",
       "      <td>0.053096</td>\n",
       "      <td>0.243562</td>\n",
       "      <td>92.285156</td>\n",
       "    </tr>\n",
       "  </tbody>\n",
       "</table>\n",
       "</div>"
      ],
      "text/plain": [
       "     genre      mfcc  chroma_sftf      flux      rolloff  zero_crossing_rate  \\\n",
       "0  hip-hop  3.214364     0.379869  1.436754  1289.819978            0.029480   \n",
       "1  hip-hop  1.229603     0.486238  1.691776  5755.731863            0.131533   \n",
       "\n",
       "    contrast  flatness      rmse      tempo  \n",
       "0  21.493925  0.000617  0.377290  89.102909  \n",
       "1  20.783028  0.053096  0.243562  92.285156  "
      ]
     },
     "execution_count": 318,
     "metadata": {},
     "output_type": "execute_result"
    }
   ],
   "source": [
    "col_feats = list(zip(genre,mfcc,chroma_sftf, flux, rolloff, zero_crossing_rate, contrast,flatness,rmse,tempo))\n",
    "col_names = [\"genre\", \"mfcc\",\"chroma_sftf\", \"flux\", \"rolloff\", \"zero_crossing_rate\", \"contrast\",\"flatness\",\"rmse\",\"tempo\"]\n",
    "\n",
    "df = pd.DataFrame(col_feats, columns = col_names)\n",
    "df.head()"
   ]
  },
  {
   "cell_type": "code",
   "execution_count": 272,
   "id": "98142b5e",
   "metadata": {},
   "outputs": [],
   "source": [
    "plt.rc(\"font\", size=14)\n",
    "from sklearn.model_selection import train_test_split\n",
    "import seaborn as sns\n",
    "sns.set(style=\"white\")\n",
    "sns.set(style=\"whitegrid\", color_codes=True)\n",
    "%matplotlib inline\n",
    "import scipy.stats as scs\n",
    "import scipy\n",
    "from sklearn.linear_model import LogisticRegression, LinearRegression\n",
    "import itertools\n",
    "from sklearn.preprocessing import StandardScaler # data normalization\n",
    "from sklearn.metrics import precision_score # evaluation metric\n",
    "from sklearn.metrics import accuracy_score # evaluation metric\n",
    "from sklearn.metrics import recall_score # evaluation metric\n",
    "from sklearn.metrics import classification_report # evaluation metric\n",
    "from sklearn.metrics import confusion_matrix # evaluation metric\n",
    "from sklearn.metrics import log_loss # evaluation metric\n",
    "from matplotlib import rcParams # plot size customization\n",
    "rcParams['figure.figsize'] = (20, 10)"
   ]
  },
  {
   "cell_type": "code",
   "execution_count": 273,
   "id": "0882f4a7",
   "metadata": {},
   "outputs": [
    {
     "name": "stdout",
     "output_type": "stream",
     "text": [
      "<class 'pandas.core.frame.DataFrame'>\n",
      "RangeIndex: 1062 entries, 0 to 1061\n",
      "Data columns (total 10 columns):\n",
      " #   Column              Non-Null Count  Dtype  \n",
      "---  ------              --------------  -----  \n",
      " 0   genre               1062 non-null   object \n",
      " 1   mfcc                1062 non-null   float64\n",
      " 2   chroma_sftf         1062 non-null   float64\n",
      " 3   flux                1062 non-null   float64\n",
      " 4   rolloff             1062 non-null   float64\n",
      " 5   zero_crossing_rate  1062 non-null   float64\n",
      " 6   contrast            1062 non-null   float64\n",
      " 7   flatness            1062 non-null   float64\n",
      " 8   rmse                1062 non-null   float64\n",
      " 9   tempo               1062 non-null   float64\n",
      "dtypes: float64(9), object(1)\n",
      "memory usage: 83.1+ KB\n"
     ]
    }
   ],
   "source": [
    "df.info()"
   ]
  },
  {
   "cell_type": "code",
   "execution_count": 274,
   "id": "0a965ca4",
   "metadata": {},
   "outputs": [],
   "source": [
    "\n",
    "y = df[\"genre\"]\n",
    "X = df.drop('genre',axis=1,inplace=False)\n"
   ]
  },
  {
   "cell_type": "code",
   "execution_count": 301,
   "id": "1b15df69",
   "metadata": {},
   "outputs": [
    {
     "name": "stdout",
     "output_type": "stream",
     "text": [
      "Accuracy Score :  0.5714285714285714\n",
      "Precision Score :  0.5340917985654828\n",
      "Recall Score :  0.5535262565196776\n"
     ]
    }
   ],
   "source": [
    "X_train, X_test, y_train, y_test = train_test_split(X, y, test_size = 0.25)\n",
    "lr = LogisticRegression(C = 1000, solver = 'liblinear')\n",
    "lr.fit(X_train,y_train)\n",
    "yhat = lr.predict(X_test)\n",
    "yhat_prob = lr.predict_proba(X_test)\n",
    "\n",
    "print(\"Accuracy Score : \", accuracy_score(yhat,y_test))\n",
    "\n",
    "print(\"Precision Score : \",precision_score(y_test, yhat, \n",
    "                                           pos_label='positive',\n",
    "                                           average='macro'))\n",
    "print(\"Recall Score : \",recall_score(y_test, yhat, \n",
    "                                           pos_label='positive',\n",
    "                                           average='macro'))"
   ]
  },
  {
   "cell_type": "code",
   "execution_count": 302,
   "id": "fcf4c8f9",
   "metadata": {},
   "outputs": [
    {
     "data": {
      "text/plain": [
       "'\\ngen = df.loc[:,\"genre\"]\\ndums = pd.get_dummies(gen,drop_first=True)\\ndf.drop(\\'genre\\',axis=1,inplace=True)\\ndums.head()\\ndf = pd.concat([df,dums],axis=1)\\n\\ndf.head()\\n'"
      ]
     },
     "execution_count": 302,
     "metadata": {},
     "output_type": "execute_result"
    }
   ],
   "source": [
    "'''\n",
    "gen = df.loc[:,\"genre\"]\n",
    "dums = pd.get_dummies(gen,drop_first=True)\n",
    "df.drop('genre',axis=1,inplace=True)\n",
    "dums.head()\n",
    "df = pd.concat([df,dums],axis=1)\n",
    "\n",
    "df.head()\n",
    "'''"
   ]
  },
  {
   "cell_type": "code",
   "execution_count": 308,
   "id": "7b406227",
   "metadata": {},
   "outputs": [],
   "source": [
    "from sklearn.neighbors import KNeighborsClassifier\n",
    "\n",
    "model = KNeighborsClassifier(n_neighbors=5)\n",
    "\n",
    "# Train the model using the training sets\n",
    "model.fit(X_train,y_train)\n",
    "\n",
    "#Predict Output\n",
    "y_pred= model.predict(X_test)\n"
   ]
  },
  {
   "cell_type": "code",
   "execution_count": 309,
   "id": "d04acbf2",
   "metadata": {},
   "outputs": [
    {
     "name": "stdout",
     "output_type": "stream",
     "text": [
      "Accuracy: 0.3533834586466165\n"
     ]
    }
   ],
   "source": [
    "#Import scikit-learn metrics module for accuracy calculation\n",
    "from sklearn import metrics\n",
    "# Model Accuracy, how often is the classifier correct?\n",
    "print(\"Accuracy:\",metrics.accuracy_score(y_test, y_pred))"
   ]
  },
  {
   "cell_type": "code",
   "execution_count": 310,
   "id": "fe78048f",
   "metadata": {},
   "outputs": [],
   "source": [
    "from sklearn.ensemble import RandomForestClassifier\n",
    "\n",
    "\n",
    "clf = RandomForestClassifier(n_estimators=10)\n",
    "\n",
    "# Train the model using the training sets\n",
    "clf.fit(X_train,y_train)\n",
    "\n",
    "#Predict Output\n",
    "y_pred= clf.predict(X_test)"
   ]
  },
  {
   "cell_type": "code",
   "execution_count": 311,
   "id": "e265f1e1",
   "metadata": {},
   "outputs": [
    {
     "name": "stdout",
     "output_type": "stream",
     "text": [
      "Accuracy: 0.6203007518796992\n"
     ]
    }
   ],
   "source": [
    "print(\"Accuracy:\",metrics.accuracy_score(y_test, y_pred))"
   ]
  }
 ],
 "metadata": {
  "kernelspec": {
   "display_name": "Python 3",
   "language": "python",
   "name": "python3"
  },
  "language_info": {
   "codemirror_mode": {
    "name": "ipython",
    "version": 3
   },
   "file_extension": ".py",
   "mimetype": "text/x-python",
   "name": "python",
   "nbconvert_exporter": "python",
   "pygments_lexer": "ipython3",
   "version": "3.8.10"
  }
 },
 "nbformat": 4,
 "nbformat_minor": 5
}
