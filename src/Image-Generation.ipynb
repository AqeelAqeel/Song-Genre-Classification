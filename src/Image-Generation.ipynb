{
 "cells": [
  {
   "cell_type": "code",
   "execution_count": 2,
   "id": "2ff59d69",
   "metadata": {},
   "outputs": [],
   "source": [
    "import tensorflow as tf\n",
    "import numpy as np\n",
    "import scipy\n",
    "from scipy import misc\n",
    "import glob\n",
    "\n",
    "import os\n",
    "\n",
    "from IPython.display import SVG\n",
    "\n",
    "\n",
    "import librosa.display\n",
    "import librosa as librosa\n",
    "\n",
    "\n",
    "from sklearn.model_selection import train_test_split\n",
    "\n",
    "import warnings\n",
    "warnings.filterwarnings('ignore')"
   ]
  },
  {
   "cell_type": "markdown",
   "id": "68de81a4",
   "metadata": {},
   "source": [
    "1. create train, validation, and test sets\n",
    "\n",
    "2. build the CNN net \n",
    "\n",
    "3. compile the network\n",
    "\n",
    "4. train the CNN\n",
    "\n",
    "5. evaluate the CNN on the test set\n",
    "\n",
    "6. make prediction on a sample\n"
   ]
  },
  {
   "cell_type": "code",
   "execution_count": 5,
   "id": "0162ff5a",
   "metadata": {},
   "outputs": [
    {
     "name": "stdout",
     "output_type": "stream",
     "text": [
      "done with  hip-hop !\n",
      "done with  classical !\n",
      "done with  country !\n",
      "done with  electronic !\n",
      "done with  metal !\n"
     ]
    }
   ],
   "source": [
    "genres = ['hip-hop', 'classical', 'country', 'electronic', 'metal']\n",
    "\n",
    "audio_files_path = '/home/aqeelali7/Documents/Galvanized/Capstone-2-Music-Genre-Classifier/data/'\n",
    "img_save_path = '/home/aqeelali7/Documents/Galvanized/Capstone-2-Music-Genre-Classifier/data/images/'\n",
    "\n",
    "# count = 1\n",
    "\n",
    "for i in range(len(genres)):\n",
    "    \n",
    "    new_path = os.path.join(audio_files_path,genres[i])\n",
    "    os.chdir(new_path)\n",
    "    \n",
    "    for track_num in range(len(os.listdir()[:5])):\n",
    "    \n",
    "        \n",
    "        window_size = 1024\n",
    "        window = np.hanning(window_size)    \n",
    "        y, sr = librosa.load((os.listdir()[track_num]), duration = 30.0)\n",
    "        stft  = librosa.core.spectrum.stft(y, n_fft=window_size, hop_length=512, window=window)\n",
    "        out = 2 * np.abs(stft) / np.sum(window)\n",
    "\n",
    "\n",
    "        \n",
    "        librosa.display.specshow(librosa.amplitude_to_db(out,ref=np.max),\n",
    "                       y_axis='log', x_axis='time')\n",
    "            \n",
    "    print('done with ', genres[i],\"!\")\n",
    "        \n",
    "            \n"
   ]
  }
 ],
 "metadata": {
  "kernelspec": {
   "display_name": "Python 3",
   "language": "python",
   "name": "python3"
  },
  "language_info": {
   "codemirror_mode": {
    "name": "ipython",
    "version": 3
   },
   "file_extension": ".py",
   "mimetype": "text/x-python",
   "name": "python",
   "nbconvert_exporter": "python",
   "pygments_lexer": "ipython3",
   "version": "3.8.10"
  }
 },
 "nbformat": 4,
 "nbformat_minor": 5
}
