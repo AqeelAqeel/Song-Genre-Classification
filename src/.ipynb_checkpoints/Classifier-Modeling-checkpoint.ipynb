{
 "cells": [
  {
   "cell_type": "code",
   "execution_count": 1,
   "id": "5dcd03b5",
   "metadata": {},
   "outputs": [],
   "source": [
    "import numpy as np\n",
    "import pandas as pd\n",
    "import matplotlib.pyplot as plt\n",
    "from glob import glob\n",
    "import os\n",
    "import librosa as librosa\n",
    "import warnings\n",
    "warnings.filterwarnings('ignore')"
   ]
  },
  {
   "cell_type": "code",
   "execution_count": 2,
   "id": "9df02378",
   "metadata": {},
   "outputs": [
    {
     "data": {
      "text/plain": [
       "'/home/aqeelali7/Documents/Galvanized/Capstone-2-Music-Genre-Classifier/Song-Genre-Classification/src'"
      ]
     },
     "execution_count": 2,
     "metadata": {},
     "output_type": "execute_result"
    }
   ],
   "source": [
    "path = os.getcwd()\n",
    "path"
   ]
  },
  {
   "cell_type": "code",
   "execution_count": 3,
   "id": "ea7b44ef",
   "metadata": {},
   "outputs": [],
   "source": [
    "p = '/home/aqeelali7/Documents/Galvanized/Capstone-2-Music-Genre-Classifier/'"
   ]
  },
  {
   "cell_type": "code",
   "execution_count": 4,
   "id": "2ac5aff8",
   "metadata": {},
   "outputs": [],
   "source": [
    "genres = ['hip-hop', 'classical', 'country', 'electronic', 'metal']"
   ]
  },
  {
   "cell_type": "code",
   "execution_count": 5,
   "id": "595cb120",
   "metadata": {},
   "outputs": [],
   "source": [
    "def extract_audio_features(y, sr):\n",
    "        '''\n",
    "        This function extracts audio features from an audio file.\n",
    "                Parameters:\n",
    "                        id (string): the audio track id \n",
    "                        y \n",
    "                        sr \n",
    "                Returns:\n",
    "                        audio_features (DataFrame): the extracted audio features\n",
    "        '''\n",
    "        # Features to concatenate in the final dictionary\n",
    "        features = {'chroma_sftf': None, 'rolloff': None, 'zero_crossing_rate': None, 'rmse': None,\n",
    "                    'flux': None, 'contrast': None, 'flatness': None}\n",
    "\n",
    "        # Count silence\n",
    "        if 0 < len(y):\n",
    "            y_sound, _ = librosa.effects.trim(y)\n",
    "        features['sample_silence'] = len(y) - len(y_sound)            \n",
    "\n",
    "        # Using librosa to calculate the features\n",
    "        features['chroma_sftf'] = np.mean(\n",
    "            librosa.feature.chroma_stft(y=y, sr=sr))\n",
    "        features['rolloff'] = np.mean(\n",
    "            librosa.feature.spectral_rolloff(y, sr=sr))\n",
    "        features['zero_crossing_rate'] = np.mean(\n",
    "            librosa.feature.zero_crossing_rate(y))\n",
    "        features['rmse'] = np.mean(librosa.feature.rms(y))\n",
    "        features['flux'] = np.mean(librosa.onset.onset_strength(y=y, sr=sr))\n",
    "        features['contrast'] = np.mean(\n",
    "            librosa.feature.spectral_contrast(y, sr=sr))\n",
    "        features['flatness'] = np.mean(librosa.feature.spectral_flatness(y))\n",
    "\n",
    "        # MFCC treatment\n",
    "        mfcc = librosa.feature.mfcc(y=y, sr=sr, n_mfcc=20)\n",
    "        \n",
    "        for idx, v_mfcc in enumerate(mfcc):\n",
    "            features['avg_mfcc'] = np.mean(v_mfcc)\n",
    "            \n",
    "        \n",
    "\n",
    "        features['tempo'] = librosa.beat.tempo(y, sr=sr)[0]\n",
    "        return features"
   ]
  },
  {
   "cell_type": "code",
   "execution_count": 75,
   "id": "91181b10",
   "metadata": {
    "scrolled": true
   },
   "outputs": [
    {
     "ename": "KeyboardInterrupt",
     "evalue": "",
     "output_type": "error",
     "traceback": [
      "\u001b[0;31m---------------------------------------------------------------------------\u001b[0m",
      "\u001b[0;31mKeyboardInterrupt\u001b[0m                         Traceback (most recent call last)",
      "\u001b[0;32m<ipython-input-75-339e1e51802d>\u001b[0m in \u001b[0;36m<module>\u001b[0;34m\u001b[0m\n\u001b[1;32m     36\u001b[0m         \u001b[0maudio\u001b[0m \u001b[0;34m=\u001b[0m \u001b[0mnp\u001b[0m\u001b[0;34m.\u001b[0m\u001b[0marray\u001b[0m\u001b[0;34m(\u001b[0m\u001b[0maudio\u001b[0m\u001b[0;34m)\u001b[0m\u001b[0;34m\u001b[0m\u001b[0;34m\u001b[0m\u001b[0m\n\u001b[1;32m     37\u001b[0m         \u001b[0mamplitude\u001b[0m \u001b[0;34m=\u001b[0m \u001b[0mnp\u001b[0m\u001b[0;34m.\u001b[0m\u001b[0marray\u001b[0m\u001b[0;34m(\u001b[0m\u001b[0mamplitude\u001b[0m\u001b[0;34m)\u001b[0m\u001b[0;34m\u001b[0m\u001b[0;34m\u001b[0m\u001b[0m\n\u001b[0;32m---> 38\u001b[0;31m         \u001b[0mcurr_song_feats\u001b[0m \u001b[0;34m=\u001b[0m \u001b[0mextract_audio_features\u001b[0m\u001b[0;34m(\u001b[0m\u001b[0maudio\u001b[0m\u001b[0;34m,\u001b[0m\u001b[0msr\u001b[0m\u001b[0;34m)\u001b[0m\u001b[0;34m\u001b[0m\u001b[0;34m\u001b[0m\u001b[0m\n\u001b[0m\u001b[1;32m     39\u001b[0m \u001b[0;34m\u001b[0m\u001b[0m\n\u001b[1;32m     40\u001b[0m         \u001b[0;31m# for each song, append data to respective features list\u001b[0m\u001b[0;34m\u001b[0m\u001b[0;34m\u001b[0m\u001b[0;34m\u001b[0m\u001b[0m\n",
      "\u001b[0;32m<ipython-input-5-c523e6d6738f>\u001b[0m in \u001b[0;36mextract_audio_features\u001b[0;34m(y, sr)\u001b[0m\n\u001b[1;32m     20\u001b[0m         \u001b[0;31m# Using librosa to calculate the features\u001b[0m\u001b[0;34m\u001b[0m\u001b[0;34m\u001b[0m\u001b[0;34m\u001b[0m\u001b[0m\n\u001b[1;32m     21\u001b[0m         features['chroma_sftf'] = np.mean(\n\u001b[0;32m---> 22\u001b[0;31m             librosa.feature.chroma_stft(y=y, sr=sr))\n\u001b[0m\u001b[1;32m     23\u001b[0m         features['rolloff'] = np.mean(\n\u001b[1;32m     24\u001b[0m             librosa.feature.spectral_rolloff(y, sr=sr))\n",
      "\u001b[0;32m~/anaconda3/lib/python3.8/site-packages/librosa/feature/spectral.py\u001b[0m in \u001b[0;36mchroma_stft\u001b[0;34m(y, sr, S, norm, n_fft, hop_length, win_length, window, center, pad_mode, tuning, n_chroma, **kwargs)\u001b[0m\n\u001b[1;32m   1308\u001b[0m \u001b[0;34m\u001b[0m\u001b[0m\n\u001b[1;32m   1309\u001b[0m     \u001b[0;32mif\u001b[0m \u001b[0mtuning\u001b[0m \u001b[0;32mis\u001b[0m \u001b[0;32mNone\u001b[0m\u001b[0;34m:\u001b[0m\u001b[0;34m\u001b[0m\u001b[0;34m\u001b[0m\u001b[0m\n\u001b[0;32m-> 1310\u001b[0;31m         \u001b[0mtuning\u001b[0m \u001b[0;34m=\u001b[0m \u001b[0mestimate_tuning\u001b[0m\u001b[0;34m(\u001b[0m\u001b[0mS\u001b[0m\u001b[0;34m=\u001b[0m\u001b[0mS\u001b[0m\u001b[0;34m,\u001b[0m \u001b[0msr\u001b[0m\u001b[0;34m=\u001b[0m\u001b[0msr\u001b[0m\u001b[0;34m,\u001b[0m \u001b[0mbins_per_octave\u001b[0m\u001b[0;34m=\u001b[0m\u001b[0mn_chroma\u001b[0m\u001b[0;34m)\u001b[0m\u001b[0;34m\u001b[0m\u001b[0;34m\u001b[0m\u001b[0m\n\u001b[0m\u001b[1;32m   1311\u001b[0m \u001b[0;34m\u001b[0m\u001b[0m\n\u001b[1;32m   1312\u001b[0m     \u001b[0;31m# Get the filter bank\u001b[0m\u001b[0;34m\u001b[0m\u001b[0;34m\u001b[0m\u001b[0;34m\u001b[0m\u001b[0m\n",
      "\u001b[0;32m~/anaconda3/lib/python3.8/site-packages/librosa/core/pitch.py\u001b[0m in \u001b[0;36mestimate_tuning\u001b[0;34m(y, sr, S, n_fft, resolution, bins_per_octave, **kwargs)\u001b[0m\n\u001b[1;32m     83\u001b[0m     \"\"\"\n\u001b[1;32m     84\u001b[0m \u001b[0;34m\u001b[0m\u001b[0m\n\u001b[0;32m---> 85\u001b[0;31m     \u001b[0mpitch\u001b[0m\u001b[0;34m,\u001b[0m \u001b[0mmag\u001b[0m \u001b[0;34m=\u001b[0m \u001b[0mpiptrack\u001b[0m\u001b[0;34m(\u001b[0m\u001b[0my\u001b[0m\u001b[0;34m=\u001b[0m\u001b[0my\u001b[0m\u001b[0;34m,\u001b[0m \u001b[0msr\u001b[0m\u001b[0;34m=\u001b[0m\u001b[0msr\u001b[0m\u001b[0;34m,\u001b[0m \u001b[0mS\u001b[0m\u001b[0;34m=\u001b[0m\u001b[0mS\u001b[0m\u001b[0;34m,\u001b[0m \u001b[0mn_fft\u001b[0m\u001b[0;34m=\u001b[0m\u001b[0mn_fft\u001b[0m\u001b[0;34m,\u001b[0m \u001b[0;34m**\u001b[0m\u001b[0mkwargs\u001b[0m\u001b[0;34m)\u001b[0m\u001b[0;34m\u001b[0m\u001b[0;34m\u001b[0m\u001b[0m\n\u001b[0m\u001b[1;32m     86\u001b[0m \u001b[0;34m\u001b[0m\u001b[0m\n\u001b[1;32m     87\u001b[0m     \u001b[0;31m# Only count magnitude where frequency is > 0\u001b[0m\u001b[0;34m\u001b[0m\u001b[0;34m\u001b[0m\u001b[0;34m\u001b[0m\u001b[0m\n",
      "\u001b[0;32m~/anaconda3/lib/python3.8/site-packages/librosa/core/pitch.py\u001b[0m in \u001b[0;36mpiptrack\u001b[0;34m(y, sr, S, n_fft, hop_length, fmin, fmax, threshold, win_length, window, center, pad_mode, ref)\u001b[0m\n\u001b[1;32m    348\u001b[0m         \u001b[0mref_value\u001b[0m \u001b[0;34m=\u001b[0m \u001b[0mnp\u001b[0m\u001b[0;34m.\u001b[0m\u001b[0mabs\u001b[0m\u001b[0;34m(\u001b[0m\u001b[0mref\u001b[0m\u001b[0;34m)\u001b[0m\u001b[0;34m\u001b[0m\u001b[0;34m\u001b[0m\u001b[0m\n\u001b[1;32m    349\u001b[0m \u001b[0;34m\u001b[0m\u001b[0m\n\u001b[0;32m--> 350\u001b[0;31m     \u001b[0midx\u001b[0m \u001b[0;34m=\u001b[0m \u001b[0mnp\u001b[0m\u001b[0;34m.\u001b[0m\u001b[0margwhere\u001b[0m\u001b[0;34m(\u001b[0m\u001b[0mfreq_mask\u001b[0m \u001b[0;34m&\u001b[0m \u001b[0mutil\u001b[0m\u001b[0;34m.\u001b[0m\u001b[0mlocalmax\u001b[0m\u001b[0;34m(\u001b[0m\u001b[0mS\u001b[0m \u001b[0;34m*\u001b[0m \u001b[0;34m(\u001b[0m\u001b[0mS\u001b[0m \u001b[0;34m>\u001b[0m \u001b[0mref_value\u001b[0m\u001b[0;34m)\u001b[0m\u001b[0;34m)\u001b[0m\u001b[0;34m)\u001b[0m\u001b[0;34m\u001b[0m\u001b[0;34m\u001b[0m\u001b[0m\n\u001b[0m\u001b[1;32m    351\u001b[0m \u001b[0;34m\u001b[0m\u001b[0m\n\u001b[1;32m    352\u001b[0m     \u001b[0;31m# Store pitch and magnitude\u001b[0m\u001b[0;34m\u001b[0m\u001b[0;34m\u001b[0m\u001b[0;34m\u001b[0m\u001b[0m\n",
      "\u001b[0;31mKeyboardInterrupt\u001b[0m: "
     ]
    }
   ],
   "source": [
    "\n",
    "#     in each genre:\n",
    "\n",
    "#     iterate to next genre\n",
    "\n",
    "\n",
    "\n",
    "# add the list as the contents of the row of a dataframe\n",
    "\n",
    "# create list of features for each song\n",
    "chroma_sftf = []\n",
    "flux = [] \n",
    "rolloff = []\n",
    "zero_crossing_rate = []\n",
    "contrast = []\n",
    "flatness = []\n",
    "rmse = []\n",
    "tempo = []\n",
    "genre = []\n",
    "mfcc = []\n",
    "sr = 22050\n",
    "\n",
    "# loop thru the list of genres\n",
    "for i in range(len(genres)):\n",
    "\n",
    "    data_dir = \"data/\"+genres[i]\n",
    "    \n",
    "    new_path = os.path.join(p,data_dir)\n",
    "    os.chdir(new_path)\n",
    "    \n",
    "#   extract audio features using librosa library\n",
    "#   store extracted audio features in a dataframe\n",
    "    count = 0\n",
    "    for track_num in range(len(os.listdir())):\n",
    "\n",
    "        audio, amplitude = librosa.load((os.listdir()[track_num]))\n",
    "        audio = np.array(audio)\n",
    "        amplitude = np.array(amplitude)\n",
    "        curr_song_feats = extract_audio_features(audio,sr)\n",
    "        \n",
    "        # for each song, append data to respective features list\n",
    "        chroma_sftf.append(curr_song_feats['chroma_sftf'])\n",
    "        flux.append(curr_song_feats['flux'])\n",
    "        rolloff.append(curr_song_feats['rolloff'])\n",
    "        zero_crossing_rate.append(curr_song_feats['zero_crossing_rate'])\n",
    "        contrast.append(curr_song_feats['contrast'])\n",
    "        flatness.append(curr_song_feats['flatness'])\n",
    "        rmse.append(curr_song_feats['rmse'])\n",
    "        tempo.append(curr_song_feats['tempo'])\n",
    "        genre.append(genres[i])\n",
    "        mfcc.append(curr_song_feats['avg_mfcc'])\n",
    "        \n",
    "        count += 1\n",
    "        \n",
    "        if count%100 == 0:\n",
    "            print('100 songs done')\n",
    "        \n",
    "        \n",
    "        \n",
    "    print('done with ', genres[i])\n",
    "    \n",
    "        \n",
    "\n",
    "        \n"
   ]
  },
  {
   "cell_type": "code",
   "execution_count": 7,
   "id": "b11c4582",
   "metadata": {},
   "outputs": [
    {
     "data": {
      "text/html": [
       "<div>\n",
       "<style scoped>\n",
       "    .dataframe tbody tr th:only-of-type {\n",
       "        vertical-align: middle;\n",
       "    }\n",
       "\n",
       "    .dataframe tbody tr th {\n",
       "        vertical-align: top;\n",
       "    }\n",
       "\n",
       "    .dataframe thead th {\n",
       "        text-align: right;\n",
       "    }\n",
       "</style>\n",
       "<table border=\"1\" class=\"dataframe\">\n",
       "  <thead>\n",
       "    <tr style=\"text-align: right;\">\n",
       "      <th></th>\n",
       "      <th>genre</th>\n",
       "      <th>mfcc</th>\n",
       "      <th>chroma_sftf</th>\n",
       "      <th>flux</th>\n",
       "      <th>rolloff</th>\n",
       "      <th>zero_crossing_rate</th>\n",
       "      <th>contrast</th>\n",
       "      <th>flatness</th>\n",
       "      <th>rmse</th>\n",
       "      <th>tempo</th>\n",
       "    </tr>\n",
       "  </thead>\n",
       "  <tbody>\n",
       "    <tr>\n",
       "      <th>0</th>\n",
       "      <td>hip-hop</td>\n",
       "      <td>3.214364</td>\n",
       "      <td>0.379869</td>\n",
       "      <td>1.436754</td>\n",
       "      <td>1289.819978</td>\n",
       "      <td>0.029480</td>\n",
       "      <td>21.493925</td>\n",
       "      <td>0.000617</td>\n",
       "      <td>0.377290</td>\n",
       "      <td>89.102909</td>\n",
       "    </tr>\n",
       "    <tr>\n",
       "      <th>1</th>\n",
       "      <td>hip-hop</td>\n",
       "      <td>1.229603</td>\n",
       "      <td>0.486238</td>\n",
       "      <td>1.691776</td>\n",
       "      <td>5755.731863</td>\n",
       "      <td>0.131533</td>\n",
       "      <td>20.783028</td>\n",
       "      <td>0.053096</td>\n",
       "      <td>0.243562</td>\n",
       "      <td>92.285156</td>\n",
       "    </tr>\n",
       "    <tr>\n",
       "      <th>2</th>\n",
       "      <td>hip-hop</td>\n",
       "      <td>6.296436</td>\n",
       "      <td>0.530458</td>\n",
       "      <td>1.888279</td>\n",
       "      <td>6261.773247</td>\n",
       "      <td>0.126315</td>\n",
       "      <td>19.989482</td>\n",
       "      <td>0.050299</td>\n",
       "      <td>0.324483</td>\n",
       "      <td>123.046875</td>\n",
       "    </tr>\n",
       "    <tr>\n",
       "      <th>3</th>\n",
       "      <td>hip-hop</td>\n",
       "      <td>4.097110</td>\n",
       "      <td>0.485251</td>\n",
       "      <td>1.290328</td>\n",
       "      <td>3830.665725</td>\n",
       "      <td>0.062796</td>\n",
       "      <td>19.489805</td>\n",
       "      <td>0.013420</td>\n",
       "      <td>0.185147</td>\n",
       "      <td>129.199219</td>\n",
       "    </tr>\n",
       "    <tr>\n",
       "      <th>4</th>\n",
       "      <td>hip-hop</td>\n",
       "      <td>2.204606</td>\n",
       "      <td>0.405980</td>\n",
       "      <td>1.543403</td>\n",
       "      <td>4310.546157</td>\n",
       "      <td>0.081577</td>\n",
       "      <td>22.124888</td>\n",
       "      <td>0.018615</td>\n",
       "      <td>0.266838</td>\n",
       "      <td>92.285156</td>\n",
       "    </tr>\n",
       "  </tbody>\n",
       "</table>\n",
       "</div>"
      ],
      "text/plain": [
       "     genre      mfcc  chroma_sftf      flux      rolloff  zero_crossing_rate  \\\n",
       "0  hip-hop  3.214364     0.379869  1.436754  1289.819978            0.029480   \n",
       "1  hip-hop  1.229603     0.486238  1.691776  5755.731863            0.131533   \n",
       "2  hip-hop  6.296436     0.530458  1.888279  6261.773247            0.126315   \n",
       "3  hip-hop  4.097110     0.485251  1.290328  3830.665725            0.062796   \n",
       "4  hip-hop  2.204606     0.405980  1.543403  4310.546157            0.081577   \n",
       "\n",
       "    contrast  flatness      rmse       tempo  \n",
       "0  21.493925  0.000617  0.377290   89.102909  \n",
       "1  20.783028  0.053096  0.243562   92.285156  \n",
       "2  19.989482  0.050299  0.324483  123.046875  \n",
       "3  19.489805  0.013420  0.185147  129.199219  \n",
       "4  22.124888  0.018615  0.266838   92.285156  "
      ]
     },
     "execution_count": 7,
     "metadata": {},
     "output_type": "execute_result"
    }
   ],
   "source": [
    "col_feats = list(zip(genre,mfcc,chroma_sftf, flux, rolloff, zero_crossing_rate, contrast,flatness,rmse,tempo))\n",
    "col_names = [\"genre\", \"mfcc\",\"chroma_sftf\", \"flux\", \"rolloff\", \"zero_crossing_rate\", \"contrast\",\"flatness\",\"rmse\",\"tempo\"]\n",
    "\n",
    "df = pd.DataFrame(col_feats, columns = col_names)\n",
    "df.head()"
   ]
  },
  {
   "cell_type": "code",
   "execution_count": 8,
   "id": "98142b5e",
   "metadata": {},
   "outputs": [],
   "source": [
    "plt.rc(\"font\", size=14)\n",
    "from sklearn.model_selection import train_test_split\n",
    "import seaborn as sns\n",
    "sns.set(style=\"white\")\n",
    "sns.set(style=\"whitegrid\", color_codes=True)\n",
    "%matplotlib inline\n",
    "import scipy.stats as scs\n",
    "import scipy\n",
    "from sklearn.linear_model import LogisticRegression, LinearRegression\n",
    "import itertools\n",
    "from sklearn.preprocessing import StandardScaler # data normalization\n",
    "from sklearn.metrics import precision_score # evaluation metric\n",
    "from sklearn.metrics import accuracy_score # evaluation metric\n",
    "from sklearn.metrics import recall_score # evaluation metric\n",
    "from sklearn.metrics import classification_report # evaluation metric\n",
    "from sklearn.metrics import confusion_matrix # evaluation metric\n",
    "from sklearn.metrics import log_loss # evaluation metric\n",
    "from matplotlib import rcParams # plot size customization\n",
    "rcParams['figure.figsize'] = (20, 10)"
   ]
  },
  {
   "cell_type": "code",
   "execution_count": 9,
   "id": "0882f4a7",
   "metadata": {},
   "outputs": [
    {
     "name": "stdout",
     "output_type": "stream",
     "text": [
      "<class 'pandas.core.frame.DataFrame'>\n",
      "RangeIndex: 1062 entries, 0 to 1061\n",
      "Data columns (total 10 columns):\n",
      " #   Column              Non-Null Count  Dtype  \n",
      "---  ------              --------------  -----  \n",
      " 0   genre               1062 non-null   object \n",
      " 1   mfcc                1062 non-null   float64\n",
      " 2   chroma_sftf         1062 non-null   float64\n",
      " 3   flux                1062 non-null   float64\n",
      " 4   rolloff             1062 non-null   float64\n",
      " 5   zero_crossing_rate  1062 non-null   float64\n",
      " 6   contrast            1062 non-null   float64\n",
      " 7   flatness            1062 non-null   float64\n",
      " 8   rmse                1062 non-null   float64\n",
      " 9   tempo               1062 non-null   float64\n",
      "dtypes: float64(9), object(1)\n",
      "memory usage: 83.1+ KB\n"
     ]
    }
   ],
   "source": [
    "df.info()"
   ]
  },
  {
   "cell_type": "code",
   "execution_count": 10,
   "id": "0a965ca4",
   "metadata": {},
   "outputs": [],
   "source": [
    "\n",
    "y = df[\"genre\"]\n",
    "X = df.drop('genre',axis=1,inplace=False)\n"
   ]
  },
  {
   "cell_type": "code",
   "execution_count": 19,
   "id": "1b15df69",
   "metadata": {},
   "outputs": [
    {
     "name": "stdout",
     "output_type": "stream",
     "text": [
      "Accuracy Score :  0.5300751879699248\n",
      "Precision Score :  0.5035256693565252\n",
      "Recall Score :  0.5131779438072188\n"
     ]
    }
   ],
   "source": [
    "X_train, X_test, y_train, y_test = train_test_split(X, y, test_size = 0.25)\n",
    "lr = LogisticRegression(C = 1000, solver = 'liblinear')\n",
    "lr.fit(X_train,y_train)\n",
    "yhat = lr.predict(X_test)\n",
    "yhat_prob = lr.predict_proba(X_test)\n",
    "\n",
    "print(\"Accuracy Score : \", accuracy_score(yhat,y_test))\n",
    "\n",
    "print(\"Precision Score : \",precision_score(y_test, yhat, \n",
    "                                           pos_label='positive',\n",
    "                                           average='macro'))\n",
    "print(\"Recall Score : \",recall_score(y_test, yhat, \n",
    "                                           pos_label='positive',\n",
    "                                           average='macro'))"
   ]
  },
  {
   "cell_type": "code",
   "execution_count": 12,
   "id": "fcf4c8f9",
   "metadata": {},
   "outputs": [
    {
     "data": {
      "text/plain": [
       "'\\ngen = df.loc[:,\"genre\"]\\ndums = pd.get_dummies(gen,drop_first=True)\\ndf.drop(\\'genre\\',axis=1,inplace=True)\\ndums.head()\\ndf = pd.concat([df,dums],axis=1)\\n\\ndf.head()\\n'"
      ]
     },
     "execution_count": 12,
     "metadata": {},
     "output_type": "execute_result"
    }
   ],
   "source": [
    "'''\n",
    "gen = df.loc[:,\"genre\"]\n",
    "dums = pd.get_dummies(gen,drop_first=True)\n",
    "df.drop('genre',axis=1,inplace=True)\n",
    "dums.head()\n",
    "df = pd.concat([df,dums],axis=1)\n",
    "\n",
    "df.head()\n",
    "'''"
   ]
  },
  {
   "cell_type": "code",
   "execution_count": 67,
   "id": "7b406227",
   "metadata": {},
   "outputs": [],
   "source": [
    "from sklearn.neighbors import KNeighborsClassifier\n",
    "\n",
    "model = KNeighborsClassifier(n_neighbors=5)\n",
    "\n",
    "# Train the model using the training sets\n",
    "model.fit(X_train,y_train)\n",
    "\n",
    "#Predict Output\n",
    "y_pred= model.predict(X_test)\n"
   ]
  },
  {
   "cell_type": "code",
   "execution_count": 68,
   "id": "d04acbf2",
   "metadata": {},
   "outputs": [
    {
     "name": "stdout",
     "output_type": "stream",
     "text": [
      "Accuracy: 0.37969924812030076\n"
     ]
    }
   ],
   "source": [
    "#Import scikit-learn metrics module for accuracy calculation\n",
    "from sklearn import metrics\n",
    "# Model Accuracy, how often is the classifier correct?\n",
    "print(\"Accuracy:\",metrics.accuracy_score(y_test, y_pred))"
   ]
  },
  {
   "cell_type": "code",
   "execution_count": 76,
   "id": "fe78048f",
   "metadata": {},
   "outputs": [
    {
     "name": "stdout",
     "output_type": "stream",
     "text": [
      "0.6079699248120299\n"
     ]
    }
   ],
   "source": [
    "from sklearn.ensemble import RandomForestClassifier\n",
    "\n",
    "scores = []\n",
    "for i in range(100):\n",
    "    clf = RandomForestClassifier(n_estimators=15)\n",
    "\n",
    "    # Train the model using the training sets\n",
    "    clf.fit(X_train,y_train)\n",
    "\n",
    "    #Predict Output\n",
    "    y_pred= clf.predict(X_test)\n",
    "    scores.append(metrics.accuracy_score(y_test, y_pred))\n",
    "\n",
    "print(np.mean(scores))\n",
    "                  "
   ]
  },
  {
   "cell_type": "code",
   "execution_count": 77,
   "id": "e265f1e1",
   "metadata": {},
   "outputs": [
    {
     "name": "stdout",
     "output_type": "stream",
     "text": [
      "Accuracy: 0.5977443609022557\n"
     ]
    }
   ],
   "source": [
    "print(\"Accuracy:\",metrics.accuracy_score(y_test, y_pred))"
   ]
  },
  {
   "cell_type": "code",
   "execution_count": 60,
   "id": "317674fb",
   "metadata": {},
   "outputs": [
    {
     "name": "stdout",
     "output_type": "stream",
     "text": [
      "0.4698999025600141\n"
     ]
    }
   ],
   "source": [
    "from sklearn.model_selection import KFold\n",
    "kf = KFold(n_splits=5, shuffle=True)  # almost always use shuffle=True\n",
    "fold_scores = []\n",
    "\n",
    "for train, test in kf.split(X):\n",
    "    model = LogisticRegression()\n",
    "    model.fit(X.values[train], y.values[train])\n",
    "    fold_scores.append(model.score(X.values[test], y.values[test]))\n",
    "    \n",
    "print(np.mean(fold_scores))"
   ]
  },
  {
   "cell_type": "markdown",
   "id": "603e3c11",
   "metadata": {},
   "source": [
    "baseline is the probability of randomly sleecting a song...\n",
    "\n",
    "baseline is about 20%"
   ]
  },
  {
   "cell_type": "code",
   "execution_count": null,
   "id": "c95bbf30",
   "metadata": {},
   "outputs": [],
   "source": []
  }
 ],
 "metadata": {
  "kernelspec": {
   "display_name": "Python 3",
   "language": "python",
   "name": "python3"
  },
  "language_info": {
   "codemirror_mode": {
    "name": "ipython",
    "version": 3
   },
   "file_extension": ".py",
   "mimetype": "text/x-python",
   "name": "python",
   "nbconvert_exporter": "python",
   "pygments_lexer": "ipython3",
   "version": "3.8.10"
  }
 },
 "nbformat": 4,
 "nbformat_minor": 5
}
