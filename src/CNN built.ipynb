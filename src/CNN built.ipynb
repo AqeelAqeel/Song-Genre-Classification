{
 "cells": [
  {
   "cell_type": "code",
   "execution_count": 2,
   "id": "2ff59d69",
   "metadata": {},
   "outputs": [
    {
     "ename": "ModuleNotFoundError",
     "evalue": "No module named 'pydot'",
     "output_type": "error",
     "traceback": [
      "\u001b[0;31m---------------------------------------------------------------------------\u001b[0m",
      "\u001b[0;31mModuleNotFoundError\u001b[0m                       Traceback (most recent call last)",
      "\u001b[0;32m<ipython-input-2-6c6b1dfeae0c>\u001b[0m in \u001b[0;36m<module>\u001b[0;34m\u001b[0m\n\u001b[1;32m     14\u001b[0m \u001b[0;32mfrom\u001b[0m \u001b[0mkeras\u001b[0m\u001b[0;34m.\u001b[0m\u001b[0mpreprocessing\u001b[0m \u001b[0;32mimport\u001b[0m \u001b[0mimage\u001b[0m\u001b[0;34m\u001b[0m\u001b[0;34m\u001b[0m\u001b[0m\n\u001b[1;32m     15\u001b[0m \u001b[0;32mfrom\u001b[0m \u001b[0mkeras\u001b[0m\u001b[0;34m.\u001b[0m\u001b[0mutils\u001b[0m \u001b[0;32mimport\u001b[0m \u001b[0mlayer_utils\u001b[0m\u001b[0;34m\u001b[0m\u001b[0;34m\u001b[0m\u001b[0m\n\u001b[0;32m---> 16\u001b[0;31m \u001b[0;32mimport\u001b[0m \u001b[0mpydot\u001b[0m\u001b[0;34m\u001b[0m\u001b[0;34m\u001b[0m\u001b[0m\n\u001b[0m\u001b[1;32m     17\u001b[0m \u001b[0;32mfrom\u001b[0m \u001b[0mIPython\u001b[0m\u001b[0;34m.\u001b[0m\u001b[0mdisplay\u001b[0m \u001b[0;32mimport\u001b[0m \u001b[0mSVG\u001b[0m\u001b[0;34m\u001b[0m\u001b[0;34m\u001b[0m\u001b[0m\n\u001b[1;32m     18\u001b[0m \u001b[0;32mfrom\u001b[0m \u001b[0mkeras\u001b[0m\u001b[0;34m.\u001b[0m\u001b[0mutils\u001b[0m\u001b[0;34m.\u001b[0m\u001b[0mvis_utils\u001b[0m \u001b[0;32mimport\u001b[0m \u001b[0mmodel_to_dot\u001b[0m\u001b[0;34m\u001b[0m\u001b[0;34m\u001b[0m\u001b[0m\n",
      "\u001b[0;31mModuleNotFoundError\u001b[0m: No module named 'pydot'"
     ]
    }
   ],
   "source": [
    "import tensorflow as tf\n",
    "import numpy as np\n",
    "import scipy\n",
    "from scipy import misc\n",
    "import glob\n",
    "from PIL import Image\n",
    "import os\n",
    "import matplotlib.pyplot as plt\n",
    "import librosa\n",
    "from keras import layers\n",
    "from keras.layers import (Input, Add, Dense, Activation, ZeroPadding2D, BatchNormalization, Flatten, \n",
    "                          Conv2D, AveragePooling2D, MaxPooling2D, GlobalMaxPooling2D)\n",
    "from keras.models import Model, load_model\n",
    "from keras.preprocessing import image\n",
    "from keras.utils import layer_utils\n",
    "import pydot\n",
    "from IPython.display import SVG\n",
    "from keras.utils.vis_utils import model_to_dot\n",
    "from keras.utils import plot_model\n",
    "from keras.optimizers import Adam\n",
    "from keras.initializers import glorot_uniform\n",
    "from matplotlib.backends.backend_agg import FigureCanvasAgg as FigureCanvas\n",
    "from pydub import AudioSegment\n",
    "import shutil\n",
    "from keras.preprocessing.image import ImageDataGenerator\n",
    "import random"
   ]
  },
  {
   "cell_type": "markdown",
   "id": "68de81a4",
   "metadata": {},
   "source": [
    "1. create train, validation, and test sets\n",
    "\n",
    "2. build the CNN net \n",
    "\n",
    "3. compile the network\n",
    "\n",
    "4. train the CNN\n",
    "\n",
    "5. evaluate the CNN on the test set\n",
    "\n",
    "6. make prediction on a sample"
   ]
  },
  {
   "cell_type": "code",
   "execution_count": 8,
   "id": "f070249f",
   "metadata": {},
   "outputs": [],
   "source": [
    "# os.makedirs('/content/spectrograms3sec')\n",
    "# os.makedirs('/content/spectrograms3sec/train')\n",
    "# os.makedirs('/content/spectrograms3sec/test')\n",
    "\n",
    "genres = 'blues classical country disco pop hiphop metal reggae rock'\n",
    "genres = genres.split()\n",
    "# for g in genres:\n",
    "#   path_audio = os.path.join('/content/audio3sec',f'{g}')\n",
    "#   os.makedirs(path_audio)\n",
    "#   path_train = os.path.join('/content/gdrive/My Drive/spectrograms3sec/train',f'{g}')\n",
    "#   path_test = os.path.join('/content/gdrive/My Drive/spectrograms3sec/test',f'{g}')\n",
    "#   os. makedirs(path_train)\n",
    "#   os. makedirs(path_test)"
   ]
  },
  {
   "cell_type": "code",
   "execution_count": 10,
   "id": "fb302759",
   "metadata": {},
   "outputs": [],
   "source": [
    "from pydub import AudioSegment\n",
    "i = 0\n",
    "# for g in genres:\n",
    "#   j=0\n",
    "#   print(f\"{g}\")\n",
    "#   for filename in os.listdir(os.path.join('/content/gdrive/My Drive/kunal/genres',f\"{g}\")):\n",
    "\n",
    "#     song  =  os.path.join(f'/content/gdrive/My Drive/kunal/genres/{g}',f'{filename}')\n",
    "#     j = j+1\n",
    "#     for w in range(0,10):\n",
    "#       i = i+1\n",
    "#       #print(i)\n",
    "#       t1 = 3*(w)*1000\n",
    "#       t2 = 3*(w+1)*1000\n",
    "#       newAudio = AudioSegment.from_wav(song)\n",
    "#       new = newAudio[t1:t2]\n",
    "#       new.export(f'/content/audio3sec/{g}/{g+str(j)+str(w)}.wav', format=\"wav\")"
   ]
  },
  {
   "cell_type": "code",
   "execution_count": 12,
   "id": "0d41eb8e",
   "metadata": {},
   "outputs": [],
   "source": [
    "for g in genres:\n",
    "  j = 0\n",
    "#   print(g)\n",
    "#   for filename in os.listdir(os.path.join('/content/audio3sec',f\"{g}\")):\n",
    "#     song  =  os.path.join(f'/content/audio3sec/{g}',f'{filename}')\n",
    "#     j = j+1\n",
    "    \n",
    "#     y,sr = librosa.load(song,duration=3)\n",
    "#     #print(sr)\n",
    "#     mels = librosa.feature.melspectrogram(y=y,sr=sr)\n",
    "#     fig = plt.Figure()\n",
    "#     canvas = FigureCanvas(fig)\n",
    "#     p = plt.imshow(librosa.power_to_db(mels,ref=np.max))\n",
    "#     plt.savefig(f'/content/gdrive/My Drive/spectrograms3sec/{g}/{g+str(j)}.png')"
   ]
  },
  {
   "cell_type": "code",
   "execution_count": 14,
   "id": "99737979",
   "metadata": {},
   "outputs": [],
   "source": [
    "# directory = \"/content/gdrive/My Drive/spectrograms3sec/train/\"\n",
    "# for g in genres:\n",
    "#   filenames = os.listdir(os.path.join(directory,f\"{g}\"))\n",
    "#   random.shuffle(filenames)\n",
    "#   test_files = filenames[0:100]\n",
    "\n",
    "#   for f in test_files:\n",
    "\n",
    "#     shutil.move(directory + f\"{g}\"+ \"/\" + f,\"/content/gdrive/My Drive/spectrograms3sec/test/\" + f\"{g}\")"
   ]
  },
  {
   "cell_type": "code",
   "execution_count": 16,
   "id": "e5f4e2d0",
   "metadata": {},
   "outputs": [],
   "source": [
    "# train_dir = \"/content/gdrive/My Drive/spectrograms3sec/train/\"\n",
    "# train_datagen = ImageDataGenerator(rescale=1./255)\n",
    "# train_generator = train_datagen.flow_from_directory(train_dir,target_size=(288,432),color_mode=\"rgba\",class_mode='categorical',batch_size=128)\n",
    "\n",
    "# validation_dir = \"/content/gdrive/My Drive/spectrograms3sec/test/\"\n",
    "# vali_datagen = ImageDataGenerator(rescale=1./255)\n",
    "# vali_generator = vali_datagen.flow_from_directory(validation_dir,target_size=(288,432),color_mode='rgba',class_mode='categorical',batch_size=128)"
   ]
  },
  {
   "cell_type": "code",
   "execution_count": 18,
   "id": "d5d3c088",
   "metadata": {},
   "outputs": [],
   "source": [
    "def GenreModel(input_shape = (288,432,4),classes=9):\n",
    "  \n",
    "  X_input = Input(input_shape)\n",
    "\n",
    "  X = Conv2D(8,kernel_size=(3,3),strides=(1,1))(X_input)\n",
    "  X = BatchNormalization(axis=3)(X)\n",
    "  X = Activation('relu')(X)\n",
    "  X = MaxPooling2D((2,2))(X)\n",
    "  \n",
    "  X = Conv2D(16,kernel_size=(3,3),strides = (1,1))(X)\n",
    "  X = BatchNormalization(axis=3)(X)\n",
    "  X = Activation('relu')(X)\n",
    "  X = MaxPooling2D((2,2))(X)\n",
    "  \n",
    "  X = Conv2D(32,kernel_size=(3,3),strides = (1,1))(X)\n",
    "  X = BatchNormalization(axis=3)(X)\n",
    "  X = Activation('relu')(X)\n",
    "  X = MaxPooling2D((2,2))(X)\n",
    "\n",
    "  X = Conv2D(64,kernel_size=(3,3),strides=(1,1))(X)\n",
    "  X = BatchNormalization(axis=-1)(X)\n",
    "  X = Activation('relu')(X)\n",
    "  X = MaxPooling2D((2,2))(X)\n",
    "  \n",
    "  X = Conv2D(128,kernel_size=(3,3),strides=(1,1))(X)\n",
    "  X = BatchNormalization(axis=-1)(X)\n",
    "  X = Activation('relu')(X)\n",
    "  X = MaxPooling2D((2,2))(X)\n",
    "\n",
    "  \n",
    "  X = Flatten()(X)\n",
    "  \n",
    "  X = Dropout(rate=0.3)\n",
    "\n",
    "  X = Dense(classes, activation='softmax', name='fc' + str(classes))(X)\n",
    "\n",
    "  model = Model(inputs=X_input,outputs=X,name='GenreModel')\n",
    "\n",
    "  return model"
   ]
  },
  {
   "cell_type": "code",
   "execution_count": null,
   "id": "91dc4ba4",
   "metadata": {},
   "outputs": [],
   "source": []
  }
 ],
 "metadata": {
  "kernelspec": {
   "display_name": "Python 3",
   "language": "python",
   "name": "python3"
  },
  "language_info": {
   "codemirror_mode": {
    "name": "ipython",
    "version": 3
   },
   "file_extension": ".py",
   "mimetype": "text/x-python",
   "name": "python",
   "nbconvert_exporter": "python",
   "pygments_lexer": "ipython3",
   "version": "3.8.10"
  }
 },
 "nbformat": 4,
 "nbformat_minor": 5
}
