{
 "cells": [
  {
   "cell_type": "code",
   "execution_count": 1,
   "id": "5dcd03b5",
   "metadata": {},
   "outputs": [],
   "source": [
    "import numpy as np\n",
    "import pandas as pd\n",
    "import matplotlib.pyplot as plt\n",
    "from glob import glob\n",
    "import os\n",
    "import librosa as librosa\n",
    "import warnings\n",
    "warnings.filterwarnings('ignore')\n",
    "plt.rc(\"font\", size=14)\n",
    "from sklearn.model_selection import train_test_split\n",
    "import seaborn as sns\n",
    "sns.set(style=\"white\")\n",
    "sns.set(style=\"whitegrid\", color_codes=True)\n",
    "%matplotlib inline\n",
    "import scipy.stats as scs\n",
    "import scipy\n",
    "from sklearn.linear_model import LogisticRegression, LinearRegression\n",
    "import itertools\n",
    "from sklearn.preprocessing import StandardScaler # data normalization\n",
    "from sklearn.metrics import precision_score # evaluation metric\n",
    "from sklearn.metrics import accuracy_score # evaluation metric\n",
    "from sklearn.metrics import recall_score # evaluation metric\n",
    "from sklearn.metrics import classification_report # evaluation metric\n",
    "from sklearn.metrics import confusion_matrix # evaluation metric\n",
    "from sklearn.metrics import log_loss # evaluation metric\n",
    "from matplotlib import rcParams # plot size customization\n",
    "rcParams['figure.figsize'] = (20, 10)"
   ]
  },
  {
   "cell_type": "code",
   "execution_count": 11,
   "id": "9df02378",
   "metadata": {},
   "outputs": [],
   "source": [
    "path = '/home/aqeelali7/Documents/Galvanize/Capstone-2-Music-Genre-Classifier/Song-Genre-Classification/src'\n",
    "pat = '/home/aqeelali7/Documents/Galvanize/Capstone-2-Music-Genre-Classifier/Song-Genre-Classification/data'"
   ]
  },
  {
   "cell_type": "code",
   "execution_count": 14,
   "id": "d2aded3f",
   "metadata": {},
   "outputs": [
    {
     "data": {
      "text/html": [
       "<div>\n",
       "<style scoped>\n",
       "    .dataframe tbody tr th:only-of-type {\n",
       "        vertical-align: middle;\n",
       "    }\n",
       "\n",
       "    .dataframe tbody tr th {\n",
       "        vertical-align: top;\n",
       "    }\n",
       "\n",
       "    .dataframe thead th {\n",
       "        text-align: right;\n",
       "    }\n",
       "</style>\n",
       "<table border=\"1\" class=\"dataframe\">\n",
       "  <thead>\n",
       "    <tr style=\"text-align: right;\">\n",
       "      <th></th>\n",
       "      <th>genre</th>\n",
       "      <th>mfcc</th>\n",
       "      <th>chroma_sftf</th>\n",
       "      <th>flux</th>\n",
       "      <th>rolloff</th>\n",
       "      <th>zero_crossing_rate</th>\n",
       "      <th>contrast</th>\n",
       "      <th>flatness</th>\n",
       "      <th>rmse</th>\n",
       "      <th>tempo</th>\n",
       "    </tr>\n",
       "  </thead>\n",
       "  <tbody>\n",
       "    <tr>\n",
       "      <th>0</th>\n",
       "      <td>hip-hop</td>\n",
       "      <td>4.450824</td>\n",
       "      <td>0.431049</td>\n",
       "      <td>1.365420</td>\n",
       "      <td>4318.922711</td>\n",
       "      <td>0.068300</td>\n",
       "      <td>19.013011</td>\n",
       "      <td>0.025153</td>\n",
       "      <td>0.345805</td>\n",
       "      <td>151.999081</td>\n",
       "    </tr>\n",
       "    <tr>\n",
       "      <th>1</th>\n",
       "      <td>hip-hop</td>\n",
       "      <td>-0.377781</td>\n",
       "      <td>0.511142</td>\n",
       "      <td>1.667078</td>\n",
       "      <td>4419.694105</td>\n",
       "      <td>0.062677</td>\n",
       "      <td>18.660331</td>\n",
       "      <td>0.022863</td>\n",
       "      <td>0.176869</td>\n",
       "      <td>123.046875</td>\n",
       "    </tr>\n",
       "    <tr>\n",
       "      <th>2</th>\n",
       "      <td>hip-hop</td>\n",
       "      <td>0.259693</td>\n",
       "      <td>0.522985</td>\n",
       "      <td>1.359143</td>\n",
       "      <td>5745.967884</td>\n",
       "      <td>0.159102</td>\n",
       "      <td>20.103879</td>\n",
       "      <td>0.053650</td>\n",
       "      <td>0.276045</td>\n",
       "      <td>95.703125</td>\n",
       "    </tr>\n",
       "    <tr>\n",
       "      <th>3</th>\n",
       "      <td>hip-hop</td>\n",
       "      <td>0.297143</td>\n",
       "      <td>0.399623</td>\n",
       "      <td>1.744030</td>\n",
       "      <td>4064.054853</td>\n",
       "      <td>0.060242</td>\n",
       "      <td>21.550626</td>\n",
       "      <td>0.020770</td>\n",
       "      <td>0.365921</td>\n",
       "      <td>95.703125</td>\n",
       "    </tr>\n",
       "    <tr>\n",
       "      <th>4</th>\n",
       "      <td>hip-hop</td>\n",
       "      <td>-3.304997</td>\n",
       "      <td>0.288411</td>\n",
       "      <td>1.144687</td>\n",
       "      <td>1368.274351</td>\n",
       "      <td>0.039064</td>\n",
       "      <td>21.798417</td>\n",
       "      <td>0.000360</td>\n",
       "      <td>0.072659</td>\n",
       "      <td>117.453835</td>\n",
       "    </tr>\n",
       "  </tbody>\n",
       "</table>\n",
       "</div>"
      ],
      "text/plain": [
       "     genre      mfcc  chroma_sftf      flux      rolloff  zero_crossing_rate  \\\n",
       "0  hip-hop  4.450824     0.431049  1.365420  4318.922711            0.068300   \n",
       "1  hip-hop -0.377781     0.511142  1.667078  4419.694105            0.062677   \n",
       "2  hip-hop  0.259693     0.522985  1.359143  5745.967884            0.159102   \n",
       "3  hip-hop  0.297143     0.399623  1.744030  4064.054853            0.060242   \n",
       "4  hip-hop -3.304997     0.288411  1.144687  1368.274351            0.039064   \n",
       "\n",
       "    contrast  flatness      rmse       tempo  \n",
       "0  19.013011  0.025153  0.345805  151.999081  \n",
       "1  18.660331  0.022863  0.176869  123.046875  \n",
       "2  20.103879  0.053650  0.276045   95.703125  \n",
       "3  21.550626  0.020770  0.365921   95.703125  \n",
       "4  21.798417  0.000360  0.072659  117.453835  "
      ]
     },
     "execution_count": 14,
     "metadata": {},
     "output_type": "execute_result"
    }
   ],
   "source": [
    "os.chdir(pat)\n",
    "df2 = pd.read_pickle('original_df.pickle')\n",
    "df = pd.read_pickle('MusicFeats.pickle')\n",
    "os.chdir(path)\n",
    "df.head()\n"
   ]
  },
  {
   "cell_type": "code",
   "execution_count": 15,
   "id": "dcf7352e",
   "metadata": {},
   "outputs": [],
   "source": [
    "y = df[\"genre\"]\n",
    "X = df.drop('genre',axis=1,inplace=False)\n"
   ]
  },
  {
   "cell_type": "code",
   "execution_count": 20,
   "id": "1b15df69",
   "metadata": {},
   "outputs": [
    {
     "name": "stdout",
     "output_type": "stream",
     "text": [
      "Accuracy Score :  0.5262605042016807\n",
      "Precision Score :  0.5007435920849458\n",
      "Recall Score :  0.5336156929939722\n"
     ]
    }
   ],
   "source": [
    "X_train, X_test, y_train, y_test = train_test_split(X, y, test_size = 0.25)\n",
    "lr = LogisticRegression(C = 1000, solver = 'liblinear')\n",
    "lr.fit(X_train,y_train)\n",
    "yhat = lr.predict(X_test)\n",
    "yhat_prob = lr.predict_proba(X_test)\n",
    "\n",
    "print(\"Accuracy Score : \", accuracy_score(yhat,y_test))\n",
    "\n",
    "print(\"Precision Score : \",precision_score(y_test, yhat, \n",
    "                                           pos_label='positive',\n",
    "                                           average='macro'))\n",
    "print(\"Recall Score : \",recall_score(y_test, yhat, \n",
    "                                           pos_label='positive',\n",
    "                                           average='macro'))"
   ]
  },
  {
   "cell_type": "code",
   "execution_count": 12,
   "id": "fcf4c8f9",
   "metadata": {},
   "outputs": [
    {
     "data": {
      "text/plain": [
       "'\\ngen = df.loc[:,\"genre\"]\\ndums = pd.get_dummies(gen,drop_first=True)\\ndf.drop(\\'genre\\',axis=1,inplace=True)\\ndums.head()\\ndf = pd.concat([df,dums],axis=1)\\n\\ndf.head()\\n'"
      ]
     },
     "execution_count": 12,
     "metadata": {},
     "output_type": "execute_result"
    }
   ],
   "source": [
    "'''\n",
    "gen = df.loc[:,\"genre\"]\n",
    "dums = pd.get_dummies(gen,drop_first=True)\n",
    "df.drop('genre',axis=1,inplace=True)\n",
    "dums.head()\n",
    "df = pd.concat([df,dums],axis=1)\n",
    "\n",
    "df.head()\n",
    "'''"
   ]
  },
  {
   "cell_type": "code",
   "execution_count": 67,
   "id": "7b406227",
   "metadata": {},
   "outputs": [],
   "source": [
    "from sklearn.neighbors import KNeighborsClassifier\n",
    "\n",
    "model = KNeighborsClassifier(n_neighbors=5)\n",
    "\n",
    "# Train the model using the training sets\n",
    "model.fit(X_train,y_train)\n",
    "\n",
    "#Predict Output\n",
    "y_pred= model.predict(X_test)\n"
   ]
  },
  {
   "cell_type": "code",
   "execution_count": 68,
   "id": "d04acbf2",
   "metadata": {},
   "outputs": [
    {
     "name": "stdout",
     "output_type": "stream",
     "text": [
      "Accuracy: 0.37969924812030076\n"
     ]
    }
   ],
   "source": [
    "#Import scikit-learn metrics module for accuracy calculation\n",
    "from sklearn import metrics\n",
    "# Model Accuracy, how often is the classifier correct?\n",
    "print(\"Accuracy:\",metrics.accuracy_score(y_test, y_pred))"
   ]
  },
  {
   "cell_type": "code",
   "execution_count": null,
   "id": "fe78048f",
   "metadata": {},
   "outputs": [],
   "source": [
    "from sklearn.ensemble import RandomForestClassifier\n",
    "\n",
    "# scores = []\n",
    "# for i in range(100):\n",
    "#     clf = RandomForestClassifier(n_estimators=15)\n",
    "\n",
    "#     # Train the model using the training sets\n",
    "#     clf.fit(X_train,y_train)\n",
    "\n",
    "#     #Predict Output\n",
    "#     y_pred= clf.predict(X_test)\n",
    "#     scores.append(metrics.accuracy_score(y_test, y_pred))\n",
    "\n",
    "# print(np.mean(scores))\n",
    "\n",
    "from sklearn.model_selection import GridSearchCV# Create the parameter grid based on the results of random search \n",
    "\n",
    "param_grid = {\n",
    "    'bootstrap': [True],\n",
    "    'max_depth': [80, 90, 100, 110],\n",
    "    'max_features': [2, 3],\n",
    "    'min_samples_leaf': [3, 4, 5],\n",
    "    'min_samples_split': [8, 10, 12],\n",
    "    'n_estimators': [100, 200, 300, 1000]\n",
    "}# Create a based model\n",
    "rf = RandomForestClassifier()# Instantiate the grid search model\n",
    "grid_search = GridSearchCV(estimator = rf, param_grid = param_grid, \n",
    "                          cv = 3, n_jobs = -1, verbose = 2)\n",
    "# Fit the grid search to the data\n",
    "\n",
    "grid_search.fit(train_features, train_labels)\n",
    "\n",
    "grid_search.best_params_{'bootstrap': True,\n",
    " 'max_depth': 80,\n",
    " 'max_features': 3,\n",
    " 'min_samples_leaf': 5,\n",
    " 'min_samples_split': 12,\n",
    " 'n_estimators': 100}\n",
    "\n",
    "best_grid = grid_search.best_estimator_\n",
    "grid_accuracy = evaluate(best_grid, test_features, test_labels)\n",
    "\n",
    "\n",
    "print('Improvement of {:0.2f}%.'.format( 100 * (grid_accuracy - base_accuracy) / base_accuracy))\n",
    "                  "
   ]
  },
  {
   "cell_type": "code",
   "execution_count": null,
   "id": "e265f1e1",
   "metadata": {},
   "outputs": [],
   "source": [
    "print(\"Accuracy:\",metrics.accuracy_score(y_test, y_pred))"
   ]
  },
  {
   "cell_type": "code",
   "execution_count": 60,
   "id": "317674fb",
   "metadata": {
    "scrolled": true
   },
   "outputs": [
    {
     "name": "stdout",
     "output_type": "stream",
     "text": [
      "0.4698999025600141\n"
     ]
    }
   ],
   "source": [
    "from sklearn.model_selection import KFold\n",
    "kf = KFold(n_splits=5, shuffle=True)  # almost always use shuffle=True\n",
    "fold_scores = []\n",
    "\n",
    "for train, test in kf.split(X):\n",
    "    model = LogisticRegression()\n",
    "    model.fit(X.values[train], y.values[train])\n",
    "    fold_scores.append(model.score(X.values[test], y.values[test]))\n",
    "    \n",
    "print(np.mean(fold_scores))"
   ]
  },
  {
   "cell_type": "markdown",
   "id": "603e3c11",
   "metadata": {},
   "source": [
    "baseline is the probability of randomly sleecting a song...\n",
    "\n",
    "baseline is about 20%"
   ]
  },
  {
   "cell_type": "code",
   "execution_count": 112,
   "id": "0911ff02",
   "metadata": {},
   "outputs": [],
   "source": [
    "tests = ['KNeighborsClassifier','LogisticRegression','RidgeClassifier','BaggingClassifier']\n",
    "\n",
    "scores = ['Model','Best Score','Mean','Std. Dev','Params']\n",
    "scores_per_test = pd.DataFrame(columns=[scores])\n",
    "scores_per_test['Model'] = tests\n",
    " \n",
    "scores_per_test.head()\n",
    "\n",
    "mean_scores = []\n",
    "std_devs = []"
   ]
  },
  {
   "cell_type": "code",
   "execution_count": 113,
   "id": "e3327a28",
   "metadata": {},
   "outputs": [
    {
     "name": "stdout",
     "output_type": "stream",
     "text": [
      "Best: 0.618577 using {'C': 100, 'penalty': 'l2', 'solver': 'newton-cg'}\n",
      "0.618577 (0.019213) with: {'C': 100, 'penalty': 'l2', 'solver': 'newton-cg'}\n",
      "0.438987 (0.021217) with: {'C': 100, 'penalty': 'l2', 'solver': 'lbfgs'}\n",
      "0.534651 (0.023326) with: {'C': 100, 'penalty': 'l2', 'solver': 'liblinear'}\n",
      "0.617350 (0.020320) with: {'C': 10, 'penalty': 'l2', 'solver': 'newton-cg'}\n",
      "0.437848 (0.020209) with: {'C': 10, 'penalty': 'l2', 'solver': 'lbfgs'}\n",
      "0.532806 (0.022669) with: {'C': 10, 'penalty': 'l2', 'solver': 'liblinear'}\n",
      "0.600003 (0.022655) with: {'C': 1.0, 'penalty': 'l2', 'solver': 'newton-cg'}\n",
      "0.438636 (0.021347) with: {'C': 1.0, 'penalty': 'l2', 'solver': 'lbfgs'}\n",
      "0.522212 (0.024838) with: {'C': 1.0, 'penalty': 'l2', 'solver': 'liblinear'}\n",
      "0.568993 (0.022594) with: {'C': 0.1, 'penalty': 'l2', 'solver': 'newton-cg'}\n",
      "0.439775 (0.020023) with: {'C': 0.1, 'penalty': 'l2', 'solver': 'lbfgs'}\n",
      "0.503463 (0.024929) with: {'C': 0.1, 'penalty': 'l2', 'solver': 'liblinear'}\n",
      "0.534215 (0.021816) with: {'C': 0.01, 'penalty': 'l2', 'solver': 'newton-cg'}\n",
      "0.437673 (0.019374) with: {'C': 0.01, 'penalty': 'l2', 'solver': 'lbfgs'}\n",
      "0.473771 (0.023169) with: {'C': 0.01, 'penalty': 'l2', 'solver': 'liblinear'}\n"
     ]
    }
   ],
   "source": [
    "# define models and parameters\n",
    "model = LogisticRegression()\n",
    "solvers = ['newton-cg', 'lbfgs', 'liblinear']\n",
    "penalty = ['l2']\n",
    "c_values = [100, 10, 1.0, 0.1, 0.01]\n",
    "# define grid search\n",
    "grid = dict(solver=solvers,penalty=penalty,C=c_values)\n",
    "cv = RepeatedStratifiedKFold(n_splits=10, n_repeats=3, random_state=1)\n",
    "grid_search = GridSearchCV(estimator=model, param_grid=grid, n_jobs=-1, cv=cv, scoring='accuracy',error_score=0)\n",
    "grid_result = grid_search.fit(X, y)\n",
    "# summarize results\n",
    "print(\"Best: %f using %s\" % (grid_result.best_score_, grid_result.best_params_))\n",
    "means = grid_result.cv_results_['mean_test_score']\n",
    "stds = grid_result.cv_results_['std_test_score']\n",
    "params = grid_result.cv_results_['params']\n",
    "for mean, stdev, param in zip(means, stds, params):\n",
    "    print(\"%f (%f) with: %r\" % (mean, stdev, param))\n",
    "\n",
    "\n",
    "scores_per_test.iloc[1,1] = grid_result.best_score_\n",
    "scores_per_test.iloc[1,2] = sum(means) / len(means)\n",
    "scores_per_test.iloc[1,3] = sum(stds) / len(stds)\n",
    "scores_per_test.iloc[1,4] = params\n"
   ]
  },
  {
   "cell_type": "code",
   "execution_count": 114,
   "id": "1568a5bb",
   "metadata": {},
   "outputs": [],
   "source": [
    "mean_scores.append(means)\n",
    "std_devs.append(stds)"
   ]
  },
  {
   "cell_type": "code",
   "execution_count": 115,
   "id": "068fe173",
   "metadata": {},
   "outputs": [
    {
     "name": "stdout",
     "output_type": "stream",
     "text": [
      "Best: 0.593522 using {'alpha': 0.1}\n",
      "0.593522 (0.023155) with: {'alpha': 0.1}\n",
      "0.590280 (0.023471) with: {'alpha': 0.2}\n",
      "0.588179 (0.022596) with: {'alpha': 0.3}\n",
      "0.586602 (0.023089) with: {'alpha': 0.4}\n",
      "0.586164 (0.023288) with: {'alpha': 0.5}\n",
      "0.585902 (0.022843) with: {'alpha': 0.6}\n",
      "0.584938 (0.022772) with: {'alpha': 0.7}\n",
      "0.584412 (0.022712) with: {'alpha': 0.8}\n",
      "0.583362 (0.022456) with: {'alpha': 0.9}\n",
      "0.583099 (0.023081) with: {'alpha': 1.0}\n"
     ]
    }
   ],
   "source": [
    "from sklearn.linear_model import RidgeClassifier\n",
    "\n",
    "model = RidgeClassifier()\n",
    "alpha = [0.1, 0.2, 0.3, 0.4, 0.5, 0.6, 0.7, 0.8, 0.9, 1.0]\n",
    "# define grid search\n",
    "grid = dict(alpha=alpha)\n",
    "cv = RepeatedStratifiedKFold(n_splits=10, n_repeats=3, random_state=1)\n",
    "grid_search = GridSearchCV(estimator=model, param_grid=grid, n_jobs=-1, cv=cv, scoring='accuracy',error_score=0)\n",
    "grid_result = grid_search.fit(X, y)\n",
    "# summarize results\n",
    "print(\"Best: %f using %s\" % (grid_result.best_score_, grid_result.best_params_))\n",
    "means = grid_result.cv_results_['mean_test_score']\n",
    "stds = grid_result.cv_results_['std_test_score']\n",
    "params = grid_result.cv_results_['params']\n",
    "for mean, stdev, param in zip(means, stds, params):\n",
    "    print(\"%f (%f) with: %r\" % (mean, stdev, param))\n",
    "    \n",
    "    \n",
    "\n",
    "scores_per_test.iloc[2,1] = grid_result.best_score_\n",
    "scores_per_test.iloc[2,2] = sum(means) / len(means)\n",
    "scores_per_test.iloc[2,3] = sum(stds) / len(stds)\n",
    "scores_per_test.iloc[2,4] = params"
   ]
  },
  {
   "cell_type": "code",
   "execution_count": 116,
   "id": "d77efb90",
   "metadata": {},
   "outputs": [],
   "source": [
    "mean_scores.append(means)\n",
    "std_devs.append(stds)"
   ]
  },
  {
   "cell_type": "code",
   "execution_count": 117,
   "id": "c95bbf30",
   "metadata": {},
   "outputs": [
    {
     "name": "stdout",
     "output_type": "stream",
     "text": [
      "Best: 0.438373 using {'metric': 'manhattan', 'n_neighbors': 19, 'weights': 'distance'}\n",
      "0.361360 (0.021811) with: {'metric': 'euclidean', 'n_neighbors': 1, 'weights': 'uniform'}\n",
      "0.361360 (0.021811) with: {'metric': 'euclidean', 'n_neighbors': 1, 'weights': 'distance'}\n",
      "0.377839 (0.021287) with: {'metric': 'euclidean', 'n_neighbors': 3, 'weights': 'uniform'}\n",
      "0.378011 (0.019385) with: {'metric': 'euclidean', 'n_neighbors': 3, 'weights': 'distance'}\n",
      "0.392733 (0.018872) with: {'metric': 'euclidean', 'n_neighbors': 5, 'weights': 'uniform'}\n",
      "0.389930 (0.022377) with: {'metric': 'euclidean', 'n_neighbors': 5, 'weights': 'distance'}\n",
      "0.405084 (0.024246) with: {'metric': 'euclidean', 'n_neighbors': 7, 'weights': 'uniform'}\n",
      "0.399125 (0.022306) with: {'metric': 'euclidean', 'n_neighbors': 7, 'weights': 'distance'}\n",
      "0.408590 (0.024897) with: {'metric': 'euclidean', 'n_neighbors': 9, 'weights': 'uniform'}\n",
      "0.407888 (0.023121) with: {'metric': 'euclidean', 'n_neighbors': 9, 'weights': 'distance'}\n",
      "0.410167 (0.023147) with: {'metric': 'euclidean', 'n_neighbors': 11, 'weights': 'uniform'}\n",
      "0.411302 (0.022780) with: {'metric': 'euclidean', 'n_neighbors': 11, 'weights': 'distance'}\n",
      "0.410428 (0.022701) with: {'metric': 'euclidean', 'n_neighbors': 13, 'weights': 'uniform'}\n",
      "0.412184 (0.023608) with: {'metric': 'euclidean', 'n_neighbors': 13, 'weights': 'distance'}\n",
      "0.411216 (0.021798) with: {'metric': 'euclidean', 'n_neighbors': 15, 'weights': 'uniform'}\n",
      "0.413144 (0.020551) with: {'metric': 'euclidean', 'n_neighbors': 15, 'weights': 'distance'}\n",
      "0.409989 (0.021693) with: {'metric': 'euclidean', 'n_neighbors': 17, 'weights': 'uniform'}\n",
      "0.413060 (0.023277) with: {'metric': 'euclidean', 'n_neighbors': 17, 'weights': 'distance'}\n",
      "0.409900 (0.024991) with: {'metric': 'euclidean', 'n_neighbors': 19, 'weights': 'uniform'}\n",
      "0.417614 (0.021204) with: {'metric': 'euclidean', 'n_neighbors': 19, 'weights': 'distance'}\n",
      "0.375374 (0.020409) with: {'metric': 'manhattan', 'n_neighbors': 1, 'weights': 'uniform'}\n",
      "0.375374 (0.020409) with: {'metric': 'manhattan', 'n_neighbors': 1, 'weights': 'distance'}\n",
      "0.393786 (0.023649) with: {'metric': 'manhattan', 'n_neighbors': 3, 'weights': 'uniform'}\n",
      "0.391327 (0.022552) with: {'metric': 'manhattan', 'n_neighbors': 3, 'weights': 'distance'}\n",
      "0.412094 (0.023340) with: {'metric': 'manhattan', 'n_neighbors': 5, 'weights': 'uniform'}\n",
      "0.406577 (0.021171) with: {'metric': 'manhattan', 'n_neighbors': 5, 'weights': 'distance'}\n",
      "0.418751 (0.028194) with: {'metric': 'manhattan', 'n_neighbors': 7, 'weights': 'uniform'}\n",
      "0.416734 (0.024336) with: {'metric': 'manhattan', 'n_neighbors': 7, 'weights': 'distance'}\n",
      "0.420765 (0.021570) with: {'metric': 'manhattan', 'n_neighbors': 9, 'weights': 'uniform'}\n",
      "0.419011 (0.024237) with: {'metric': 'manhattan', 'n_neighbors': 9, 'weights': 'distance'}\n",
      "0.429702 (0.021824) with: {'metric': 'manhattan', 'n_neighbors': 11, 'weights': 'uniform'}\n",
      "0.426280 (0.024037) with: {'metric': 'manhattan', 'n_neighbors': 11, 'weights': 'distance'}\n",
      "0.425141 (0.023819) with: {'metric': 'manhattan', 'n_neighbors': 13, 'weights': 'uniform'}\n",
      "0.430579 (0.022827) with: {'metric': 'manhattan', 'n_neighbors': 13, 'weights': 'distance'}\n",
      "0.428909 (0.026702) with: {'metric': 'manhattan', 'n_neighbors': 15, 'weights': 'uniform'}\n",
      "0.432240 (0.025357) with: {'metric': 'manhattan', 'n_neighbors': 15, 'weights': 'distance'}\n",
      "0.432330 (0.027261) with: {'metric': 'manhattan', 'n_neighbors': 17, 'weights': 'uniform'}\n",
      "0.436358 (0.026606) with: {'metric': 'manhattan', 'n_neighbors': 17, 'weights': 'distance'}\n",
      "0.431361 (0.022861) with: {'metric': 'manhattan', 'n_neighbors': 19, 'weights': 'uniform'}\n",
      "0.438373 (0.023322) with: {'metric': 'manhattan', 'n_neighbors': 19, 'weights': 'distance'}\n",
      "0.361360 (0.021811) with: {'metric': 'minkowski', 'n_neighbors': 1, 'weights': 'uniform'}\n",
      "0.361360 (0.021811) with: {'metric': 'minkowski', 'n_neighbors': 1, 'weights': 'distance'}\n",
      "0.377839 (0.021287) with: {'metric': 'minkowski', 'n_neighbors': 3, 'weights': 'uniform'}\n",
      "0.378011 (0.019385) with: {'metric': 'minkowski', 'n_neighbors': 3, 'weights': 'distance'}\n",
      "0.392733 (0.018872) with: {'metric': 'minkowski', 'n_neighbors': 5, 'weights': 'uniform'}\n",
      "0.389930 (0.022377) with: {'metric': 'minkowski', 'n_neighbors': 5, 'weights': 'distance'}\n",
      "0.405084 (0.024246) with: {'metric': 'minkowski', 'n_neighbors': 7, 'weights': 'uniform'}\n",
      "0.399125 (0.022306) with: {'metric': 'minkowski', 'n_neighbors': 7, 'weights': 'distance'}\n",
      "0.408590 (0.024897) with: {'metric': 'minkowski', 'n_neighbors': 9, 'weights': 'uniform'}\n",
      "0.407888 (0.023121) with: {'metric': 'minkowski', 'n_neighbors': 9, 'weights': 'distance'}\n",
      "0.410167 (0.023147) with: {'metric': 'minkowski', 'n_neighbors': 11, 'weights': 'uniform'}\n",
      "0.411302 (0.022780) with: {'metric': 'minkowski', 'n_neighbors': 11, 'weights': 'distance'}\n",
      "0.410428 (0.022701) with: {'metric': 'minkowski', 'n_neighbors': 13, 'weights': 'uniform'}\n",
      "0.412184 (0.023608) with: {'metric': 'minkowski', 'n_neighbors': 13, 'weights': 'distance'}\n",
      "0.411216 (0.021798) with: {'metric': 'minkowski', 'n_neighbors': 15, 'weights': 'uniform'}\n",
      "0.413144 (0.020551) with: {'metric': 'minkowski', 'n_neighbors': 15, 'weights': 'distance'}\n",
      "0.409989 (0.021693) with: {'metric': 'minkowski', 'n_neighbors': 17, 'weights': 'uniform'}\n",
      "0.413060 (0.023277) with: {'metric': 'minkowski', 'n_neighbors': 17, 'weights': 'distance'}\n",
      "0.409900 (0.024991) with: {'metric': 'minkowski', 'n_neighbors': 19, 'weights': 'uniform'}\n",
      "0.417614 (0.021204) with: {'metric': 'minkowski', 'n_neighbors': 19, 'weights': 'distance'}\n"
     ]
    }
   ],
   "source": [
    "from sklearn.neighbors import KNeighborsClassifier\n",
    "from sklearn.model_selection import RepeatedStratifiedKFold\n",
    "from sklearn.model_selection import GridSearchCV\n",
    "model = KNeighborsClassifier()\n",
    "\n",
    "n_neighbors = range(1, 21, 2)\n",
    "weights = ['uniform', 'distance']\n",
    "metric = ['euclidean', 'manhattan', 'minkowski']\n",
    "# define grid search\n",
    "grid = dict(n_neighbors=n_neighbors,weights=weights,metric=metric)\n",
    "cv = RepeatedStratifiedKFold(n_splits=10, n_repeats=3, random_state=1)\n",
    "grid_search = GridSearchCV(estimator=model, param_grid=grid, n_jobs=-1, cv=cv, scoring='accuracy',error_score=0)\n",
    "grid_result = grid_search.fit(X, y)\n",
    "# summarize results\n",
    "print(\"Best: %f using %s\" % (grid_result.best_score_, grid_result.best_params_))\n",
    "means = grid_result.cv_results_['mean_test_score']\n",
    "stds = grid_result.cv_results_['std_test_score']\n",
    "params = grid_result.cv_results_['params']\n",
    "for mean, stdev, param in zip(means, stds, params):\n",
    "    print(\"%f (%f) with: %r\" % (mean, stdev, param))\n",
    "    \n",
    "    \n",
    "scores_per_test.iloc[0,1] = grid_result.best_score_\n",
    "scores_per_test.iloc[0,2] = sum(means) / len(means)\n",
    "scores_per_test.iloc[0,3] = sum(stds) / len(stds)\n",
    "scores_per_test.iloc[0,4] = params"
   ]
  },
  {
   "cell_type": "code",
   "execution_count": 118,
   "id": "f68e4bb2",
   "metadata": {},
   "outputs": [],
   "source": [
    "mean_scores.append(means)\n",
    "std_devs.append(stds)"
   ]
  },
  {
   "cell_type": "code",
   "execution_count": 119,
   "id": "c2910b48",
   "metadata": {},
   "outputs": [
    {
     "name": "stdout",
     "output_type": "stream",
     "text": [
      "Best: 0.648795 using {'n_estimators': 1000}\n",
      "0.617426 (0.018526) with: {'n_estimators': 10}\n",
      "0.643365 (0.020245) with: {'n_estimators': 100}\n",
      "0.648795 (0.022919) with: {'n_estimators': 1000}\n"
     ]
    }
   ],
   "source": [
    "from sklearn.ensemble import BaggingClassifier\n",
    "\n",
    "# define models and parameters\n",
    "model = BaggingClassifier()\n",
    "n_estimators = [10, 100, 1000]\n",
    "# define grid search\n",
    "grid = dict(n_estimators=n_estimators)\n",
    "cv = RepeatedStratifiedKFold(n_splits=10, n_repeats=3, random_state=1)\n",
    "grid_search = GridSearchCV(estimator=model, param_grid=grid, n_jobs=-1, cv=cv, scoring='accuracy',error_score=0)\n",
    "grid_result = grid_search.fit(X, y)\n",
    "# summarize results\n",
    "print(\"Best: %f using %s\" % (grid_result.best_score_, grid_result.best_params_))\n",
    "means = grid_result.cv_results_['mean_test_score']\n",
    "stds = grid_result.cv_results_['std_test_score']\n",
    "params = grid_result.cv_results_['params']\n",
    "for mean, stdev, param in zip(means, stds, params):\n",
    "    print(\"%f (%f) with: %r\" % (mean, stdev, param))\n",
    "    \n",
    "\n",
    "\n",
    "scores_per_test.iloc[3,1] = grid_result.best_score_\n",
    "scores_per_test.iloc[3,2] = sum(means) / len(means)\n",
    "scores_per_test.iloc[3,3] = sum(stds) / len(stds)\n",
    "scores_per_test.iloc[3,4] = params"
   ]
  },
  {
   "cell_type": "code",
   "execution_count": 124,
   "id": "62f20c73",
   "metadata": {},
   "outputs": [],
   "source": [
    "mean_scores.append(means)\n",
    "std_devs.append(stds)\n",
    "\n",
    "dd = pd.Series(mean_scores)\n",
    "\n"
   ]
  },
  {
   "cell_type": "code",
   "execution_count": 89,
   "id": "aec7dc82",
   "metadata": {},
   "outputs": [
    {
     "data": {
      "text/html": [
       "<div>\n",
       "<style scoped>\n",
       "    .dataframe tbody tr th:only-of-type {\n",
       "        vertical-align: middle;\n",
       "    }\n",
       "\n",
       "    .dataframe tbody tr th {\n",
       "        vertical-align: top;\n",
       "    }\n",
       "\n",
       "    .dataframe thead tr th {\n",
       "        text-align: left;\n",
       "    }\n",
       "</style>\n",
       "<table border=\"1\" class=\"dataframe\">\n",
       "  <thead>\n",
       "    <tr>\n",
       "      <th></th>\n",
       "      <th>Model</th>\n",
       "      <th>Best Score</th>\n",
       "      <th>Mean</th>\n",
       "      <th>Std. Dev</th>\n",
       "      <th>Params</th>\n",
       "    </tr>\n",
       "  </thead>\n",
       "  <tbody>\n",
       "    <tr>\n",
       "      <th>0</th>\n",
       "      <td>KNeighborsClassifier</td>\n",
       "      <td>0.438373</td>\n",
       "      <td>0.405715</td>\n",
       "      <td>0.02277</td>\n",
       "      <td>[{'metric': 'euclidean', 'n_neighbors': 1, 'we...</td>\n",
       "    </tr>\n",
       "    <tr>\n",
       "      <th>1</th>\n",
       "      <td>LogisticRegression</td>\n",
       "      <td>0.618577</td>\n",
       "      <td>0.513264</td>\n",
       "      <td>0.021847</td>\n",
       "      <td>[{'C': 100, 'penalty': 'l2', 'solver': 'newton...</td>\n",
       "    </tr>\n",
       "    <tr>\n",
       "      <th>2</th>\n",
       "      <td>RidgeClassifier</td>\n",
       "      <td>0.593522</td>\n",
       "      <td>0.586646</td>\n",
       "      <td>0.022946</td>\n",
       "      <td>[{'alpha': 0.1}, {'alpha': 0.2}, {'alpha': 0.3...</td>\n",
       "    </tr>\n",
       "    <tr>\n",
       "      <th>3</th>\n",
       "      <td>BaggingClassifier</td>\n",
       "      <td>0.648358</td>\n",
       "      <td>0.636006</td>\n",
       "      <td>0.022437</td>\n",
       "      <td>[{'n_estimators': 10}, {'n_estimators': 100}, ...</td>\n",
       "    </tr>\n",
       "  </tbody>\n",
       "</table>\n",
       "</div>"
      ],
      "text/plain": [
       "                  Model Best Score      Mean  Std. Dev  \\\n",
       "0  KNeighborsClassifier   0.438373  0.405715   0.02277   \n",
       "1    LogisticRegression   0.618577  0.513264  0.021847   \n",
       "2       RidgeClassifier   0.593522  0.586646  0.022946   \n",
       "3     BaggingClassifier   0.648358  0.636006  0.022437   \n",
       "\n",
       "                                              Params  \n",
       "0  [{'metric': 'euclidean', 'n_neighbors': 1, 'we...  \n",
       "1  [{'C': 100, 'penalty': 'l2', 'solver': 'newton...  \n",
       "2  [{'alpha': 0.1}, {'alpha': 0.2}, {'alpha': 0.3...  \n",
       "3  [{'n_estimators': 10}, {'n_estimators': 100}, ...  "
      ]
     },
     "execution_count": 89,
     "metadata": {},
     "output_type": "execute_result"
    }
   ],
   "source": [
    "scores_per_test.head()"
   ]
  },
  {
   "cell_type": "code",
   "execution_count": 91,
   "id": "d2fa7d5f",
   "metadata": {},
   "outputs": [
    {
     "name": "stdout",
     "output_type": "stream",
     "text": [
      "/home/aqeelali7/Documents/Galvanize/Capstone-2-Music-Genre-Classifier/Song-Genre-Classification/data\n"
     ]
    }
   ],
   "source": [
    "print(os.getcwd())\n",
    "pat = '/home/aqeelali7/Documents/Galvanize/Capstone-2-Music-Genre-Classifier/Song-Genre-Classification/data'\n",
    "os.chdir(pat)\n",
    "scores_per_test.to_pickle('scores1.pickle')\n",
    "\n",
    "scores_per_test.to_csv('scores1')"
   ]
  }
 ],
 "metadata": {
  "kernelspec": {
   "display_name": "Python 3",
   "language": "python",
   "name": "python3"
  },
  "language_info": {
   "codemirror_mode": {
    "name": "ipython",
    "version": 3
   },
   "file_extension": ".py",
   "mimetype": "text/x-python",
   "name": "python",
   "nbconvert_exporter": "python",
   "pygments_lexer": "ipython3",
   "version": "3.8.10"
  }
 },
 "nbformat": 4,
 "nbformat_minor": 5
}
